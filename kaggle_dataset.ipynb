{
 "cells": [
  {
   "metadata": {},
   "cell_type": "markdown",
   "source": "Test on https://www.kaggle.com/datasets/wanghaohan/confused-eeg/code\n",
   "id": "706eadb7b3f1745f"
  },
  {
   "metadata": {
    "ExecuteTime": {
     "end_time": "2024-12-14T12:37:27.755504Z",
     "start_time": "2024-12-14T12:37:27.336884Z"
    }
   },
   "cell_type": "code",
   "source": [
    "import pandas as pd\n",
    "import matplotlib.pyplot as plt\n"
   ],
   "id": "a8b0f9beab2cc9de",
   "outputs": [],
   "execution_count": 1
  },
  {
   "metadata": {
    "collapsed": true,
    "ExecuteTime": {
     "end_time": "2024-12-14T12:37:27.800397Z",
     "start_time": "2024-12-14T12:37:27.760837Z"
    }
   },
   "cell_type": "code",
   "source": [
    "df = pd.read_csv('kaggle/confused-eeg/EEG_data.csv')\n",
    "df\n"
   ],
   "id": "initial_id",
   "outputs": [
    {
     "data": {
      "text/plain": [
       "       SubjectID  VideoID  Attention  Mediation    Raw      Delta      Theta  \\\n",
       "0            0.0      0.0       56.0       43.0  278.0   301963.0    90612.0   \n",
       "1            0.0      0.0       40.0       35.0  -50.0    73787.0    28083.0   \n",
       "2            0.0      0.0       47.0       48.0  101.0   758353.0   383745.0   \n",
       "3            0.0      0.0       47.0       57.0   -5.0  2012240.0   129350.0   \n",
       "4            0.0      0.0       44.0       53.0   -8.0  1005145.0   354328.0   \n",
       "...          ...      ...        ...        ...    ...        ...        ...   \n",
       "12806        9.0      9.0       64.0       38.0  -39.0   127574.0     9951.0   \n",
       "12807        9.0      9.0       61.0       35.0 -275.0   323061.0   797464.0   \n",
       "12808        9.0      9.0       60.0       29.0 -426.0   680989.0   154296.0   \n",
       "12809        9.0      9.0       60.0       29.0  -84.0   366269.0    27346.0   \n",
       "12810        9.0      9.0       64.0       29.0  -49.0  1164555.0  1184366.0   \n",
       "\n",
       "         Alpha1    Alpha2    Beta1     Beta2   Gamma1   Gamma2  \\\n",
       "0       33735.0   23991.0  27946.0   45097.0  33228.0   8293.0   \n",
       "1        1439.0    2240.0   2746.0    3687.0   5293.0   2740.0   \n",
       "2      201999.0   62107.0  36293.0  130536.0  57243.0  25354.0   \n",
       "3       61236.0   17084.0  11488.0   62462.0  49960.0  33932.0   \n",
       "4       37102.0   88881.0  45307.0   99603.0  44790.0  29749.0   \n",
       "...         ...       ...      ...       ...      ...      ...   \n",
       "12806     709.0   21732.0   3872.0   39728.0   2598.0    960.0   \n",
       "12807  153171.0  145805.0  39829.0  571280.0  36574.0  10010.0   \n",
       "12808   40068.0   39122.0  10966.0   26975.0  20427.0   2024.0   \n",
       "12809   11444.0    9932.0   1939.0    3283.0  12323.0   1764.0   \n",
       "12810   50014.0  124208.0  10634.0  445383.0  22133.0   4482.0   \n",
       "\n",
       "       predefinedlabel  user-definedlabeln  \n",
       "0                  0.0                 0.0  \n",
       "1                  0.0                 0.0  \n",
       "2                  0.0                 0.0  \n",
       "3                  0.0                 0.0  \n",
       "4                  0.0                 0.0  \n",
       "...                ...                 ...  \n",
       "12806              1.0                 0.0  \n",
       "12807              1.0                 0.0  \n",
       "12808              1.0                 0.0  \n",
       "12809              1.0                 0.0  \n",
       "12810              1.0                 0.0  \n",
       "\n",
       "[12811 rows x 15 columns]"
      ],
      "text/html": [
       "<div>\n",
       "<style scoped>\n",
       "    .dataframe tbody tr th:only-of-type {\n",
       "        vertical-align: middle;\n",
       "    }\n",
       "\n",
       "    .dataframe tbody tr th {\n",
       "        vertical-align: top;\n",
       "    }\n",
       "\n",
       "    .dataframe thead th {\n",
       "        text-align: right;\n",
       "    }\n",
       "</style>\n",
       "<table border=\"1\" class=\"dataframe\">\n",
       "  <thead>\n",
       "    <tr style=\"text-align: right;\">\n",
       "      <th></th>\n",
       "      <th>SubjectID</th>\n",
       "      <th>VideoID</th>\n",
       "      <th>Attention</th>\n",
       "      <th>Mediation</th>\n",
       "      <th>Raw</th>\n",
       "      <th>Delta</th>\n",
       "      <th>Theta</th>\n",
       "      <th>Alpha1</th>\n",
       "      <th>Alpha2</th>\n",
       "      <th>Beta1</th>\n",
       "      <th>Beta2</th>\n",
       "      <th>Gamma1</th>\n",
       "      <th>Gamma2</th>\n",
       "      <th>predefinedlabel</th>\n",
       "      <th>user-definedlabeln</th>\n",
       "    </tr>\n",
       "  </thead>\n",
       "  <tbody>\n",
       "    <tr>\n",
       "      <th>0</th>\n",
       "      <td>0.0</td>\n",
       "      <td>0.0</td>\n",
       "      <td>56.0</td>\n",
       "      <td>43.0</td>\n",
       "      <td>278.0</td>\n",
       "      <td>301963.0</td>\n",
       "      <td>90612.0</td>\n",
       "      <td>33735.0</td>\n",
       "      <td>23991.0</td>\n",
       "      <td>27946.0</td>\n",
       "      <td>45097.0</td>\n",
       "      <td>33228.0</td>\n",
       "      <td>8293.0</td>\n",
       "      <td>0.0</td>\n",
       "      <td>0.0</td>\n",
       "    </tr>\n",
       "    <tr>\n",
       "      <th>1</th>\n",
       "      <td>0.0</td>\n",
       "      <td>0.0</td>\n",
       "      <td>40.0</td>\n",
       "      <td>35.0</td>\n",
       "      <td>-50.0</td>\n",
       "      <td>73787.0</td>\n",
       "      <td>28083.0</td>\n",
       "      <td>1439.0</td>\n",
       "      <td>2240.0</td>\n",
       "      <td>2746.0</td>\n",
       "      <td>3687.0</td>\n",
       "      <td>5293.0</td>\n",
       "      <td>2740.0</td>\n",
       "      <td>0.0</td>\n",
       "      <td>0.0</td>\n",
       "    </tr>\n",
       "    <tr>\n",
       "      <th>2</th>\n",
       "      <td>0.0</td>\n",
       "      <td>0.0</td>\n",
       "      <td>47.0</td>\n",
       "      <td>48.0</td>\n",
       "      <td>101.0</td>\n",
       "      <td>758353.0</td>\n",
       "      <td>383745.0</td>\n",
       "      <td>201999.0</td>\n",
       "      <td>62107.0</td>\n",
       "      <td>36293.0</td>\n",
       "      <td>130536.0</td>\n",
       "      <td>57243.0</td>\n",
       "      <td>25354.0</td>\n",
       "      <td>0.0</td>\n",
       "      <td>0.0</td>\n",
       "    </tr>\n",
       "    <tr>\n",
       "      <th>3</th>\n",
       "      <td>0.0</td>\n",
       "      <td>0.0</td>\n",
       "      <td>47.0</td>\n",
       "      <td>57.0</td>\n",
       "      <td>-5.0</td>\n",
       "      <td>2012240.0</td>\n",
       "      <td>129350.0</td>\n",
       "      <td>61236.0</td>\n",
       "      <td>17084.0</td>\n",
       "      <td>11488.0</td>\n",
       "      <td>62462.0</td>\n",
       "      <td>49960.0</td>\n",
       "      <td>33932.0</td>\n",
       "      <td>0.0</td>\n",
       "      <td>0.0</td>\n",
       "    </tr>\n",
       "    <tr>\n",
       "      <th>4</th>\n",
       "      <td>0.0</td>\n",
       "      <td>0.0</td>\n",
       "      <td>44.0</td>\n",
       "      <td>53.0</td>\n",
       "      <td>-8.0</td>\n",
       "      <td>1005145.0</td>\n",
       "      <td>354328.0</td>\n",
       "      <td>37102.0</td>\n",
       "      <td>88881.0</td>\n",
       "      <td>45307.0</td>\n",
       "      <td>99603.0</td>\n",
       "      <td>44790.0</td>\n",
       "      <td>29749.0</td>\n",
       "      <td>0.0</td>\n",
       "      <td>0.0</td>\n",
       "    </tr>\n",
       "    <tr>\n",
       "      <th>...</th>\n",
       "      <td>...</td>\n",
       "      <td>...</td>\n",
       "      <td>...</td>\n",
       "      <td>...</td>\n",
       "      <td>...</td>\n",
       "      <td>...</td>\n",
       "      <td>...</td>\n",
       "      <td>...</td>\n",
       "      <td>...</td>\n",
       "      <td>...</td>\n",
       "      <td>...</td>\n",
       "      <td>...</td>\n",
       "      <td>...</td>\n",
       "      <td>...</td>\n",
       "      <td>...</td>\n",
       "    </tr>\n",
       "    <tr>\n",
       "      <th>12806</th>\n",
       "      <td>9.0</td>\n",
       "      <td>9.0</td>\n",
       "      <td>64.0</td>\n",
       "      <td>38.0</td>\n",
       "      <td>-39.0</td>\n",
       "      <td>127574.0</td>\n",
       "      <td>9951.0</td>\n",
       "      <td>709.0</td>\n",
       "      <td>21732.0</td>\n",
       "      <td>3872.0</td>\n",
       "      <td>39728.0</td>\n",
       "      <td>2598.0</td>\n",
       "      <td>960.0</td>\n",
       "      <td>1.0</td>\n",
       "      <td>0.0</td>\n",
       "    </tr>\n",
       "    <tr>\n",
       "      <th>12807</th>\n",
       "      <td>9.0</td>\n",
       "      <td>9.0</td>\n",
       "      <td>61.0</td>\n",
       "      <td>35.0</td>\n",
       "      <td>-275.0</td>\n",
       "      <td>323061.0</td>\n",
       "      <td>797464.0</td>\n",
       "      <td>153171.0</td>\n",
       "      <td>145805.0</td>\n",
       "      <td>39829.0</td>\n",
       "      <td>571280.0</td>\n",
       "      <td>36574.0</td>\n",
       "      <td>10010.0</td>\n",
       "      <td>1.0</td>\n",
       "      <td>0.0</td>\n",
       "    </tr>\n",
       "    <tr>\n",
       "      <th>12808</th>\n",
       "      <td>9.0</td>\n",
       "      <td>9.0</td>\n",
       "      <td>60.0</td>\n",
       "      <td>29.0</td>\n",
       "      <td>-426.0</td>\n",
       "      <td>680989.0</td>\n",
       "      <td>154296.0</td>\n",
       "      <td>40068.0</td>\n",
       "      <td>39122.0</td>\n",
       "      <td>10966.0</td>\n",
       "      <td>26975.0</td>\n",
       "      <td>20427.0</td>\n",
       "      <td>2024.0</td>\n",
       "      <td>1.0</td>\n",
       "      <td>0.0</td>\n",
       "    </tr>\n",
       "    <tr>\n",
       "      <th>12809</th>\n",
       "      <td>9.0</td>\n",
       "      <td>9.0</td>\n",
       "      <td>60.0</td>\n",
       "      <td>29.0</td>\n",
       "      <td>-84.0</td>\n",
       "      <td>366269.0</td>\n",
       "      <td>27346.0</td>\n",
       "      <td>11444.0</td>\n",
       "      <td>9932.0</td>\n",
       "      <td>1939.0</td>\n",
       "      <td>3283.0</td>\n",
       "      <td>12323.0</td>\n",
       "      <td>1764.0</td>\n",
       "      <td>1.0</td>\n",
       "      <td>0.0</td>\n",
       "    </tr>\n",
       "    <tr>\n",
       "      <th>12810</th>\n",
       "      <td>9.0</td>\n",
       "      <td>9.0</td>\n",
       "      <td>64.0</td>\n",
       "      <td>29.0</td>\n",
       "      <td>-49.0</td>\n",
       "      <td>1164555.0</td>\n",
       "      <td>1184366.0</td>\n",
       "      <td>50014.0</td>\n",
       "      <td>124208.0</td>\n",
       "      <td>10634.0</td>\n",
       "      <td>445383.0</td>\n",
       "      <td>22133.0</td>\n",
       "      <td>4482.0</td>\n",
       "      <td>1.0</td>\n",
       "      <td>0.0</td>\n",
       "    </tr>\n",
       "  </tbody>\n",
       "</table>\n",
       "<p>12811 rows × 15 columns</p>\n",
       "</div>"
      ]
     },
     "execution_count": 2,
     "metadata": {},
     "output_type": "execute_result"
    }
   ],
   "execution_count": 2
  },
  {
   "metadata": {
    "ExecuteTime": {
     "end_time": "2024-12-14T12:37:27.906959Z",
     "start_time": "2024-12-14T12:37:27.904883Z"
    }
   },
   "cell_type": "code",
   "source": [
    "def get_sequence(subjectID, videoID, name, df):\n",
    "    return np.array(df[(df['SubjectID'] == subjectID) & (df['VideoID'] == videoID)][name])"
   ],
   "id": "8cb7febac90b1912",
   "outputs": [],
   "execution_count": 3
  },
  {
   "metadata": {
    "ExecuteTime": {
     "end_time": "2024-12-14T12:37:28.329812Z",
     "start_time": "2024-12-14T12:37:27.930415Z"
    }
   },
   "cell_type": "code",
   "source": [
    "import numpy as np\n",
    "\n",
    "sequences_delta = []\n",
    "sequences_theta = []\n",
    "sequences_alpha1 = []\n",
    "sequences_alpha2 = []\n",
    "sequences_beta1 = []\n",
    "sequences_beta2 = []\n",
    "sequences_gamma1 = []\n",
    "sequences_gamma2 = []\n",
    "y = []\n",
    "seq_length = 50\n",
    "for i in range(10):\n",
    "    for j in range(10):\n",
    "        sequences_delta.append(get_sequence(i, j, 'Delta', df)[:50])\n",
    "        sequences_delta.append(get_sequence(i, j, 'Delta', df)[50:100])\n",
    "        sequences_theta.append(get_sequence(i, j, 'Theta', df)[:50])\n",
    "        sequences_theta.append(get_sequence(i, j, 'Theta', df)[50:100])\n",
    "        sequences_alpha1.append(get_sequence(i, j, 'Alpha1', df)[:50])\n",
    "        sequences_alpha1.append(get_sequence(i, j, 'Alpha1', df)[50:100])\n",
    "        sequences_alpha2.append(get_sequence(i, j, 'Alpha2', df)[:50])\n",
    "        sequences_alpha2.append(get_sequence(i, j, 'Alpha2', df)[50:100])\n",
    "        sequences_beta1.append(get_sequence(i, j, 'Beta1', df)[:50])\n",
    "        sequences_beta1.append(get_sequence(i, j, 'Beta1', df)[50:100])\n",
    "        sequences_beta2.append(get_sequence(i, j, 'Beta2', df)[:50])\n",
    "        sequences_beta2.append(get_sequence(i, j, 'Beta2', df)[50:100])\n",
    "        sequences_gamma1.append(get_sequence(i, j, 'Gamma1', df)[:50])\n",
    "        sequences_gamma1.append(get_sequence(i, j, 'Gamma1', df)[50:100])\n",
    "        sequences_gamma2.append(get_sequence(i, j, 'Gamma2', df)[:50])\n",
    "        sequences_gamma2.append(get_sequence(i, j, 'Gamma2', df)[50:100])\n",
    "        y.append(np.array(df[(df['SubjectID'] == i) & (df['VideoID'] == j)]['user-definedlabeln'])[0])\n",
    "        y.append(np.array(df[(df['SubjectID'] == i) & (df['VideoID'] == j)]['user-definedlabeln'])[0])\n"
   ],
   "id": "f5a8c08c24703693",
   "outputs": [],
   "execution_count": 4
  },
  {
   "metadata": {
    "ExecuteTime": {
     "end_time": "2024-12-14T12:37:28.361391Z",
     "start_time": "2024-12-14T12:37:28.358232Z"
    }
   },
   "cell_type": "code",
   "source": [
    "import numpy as np\n",
    "\n",
    "sequences_delta = np.array(sequences_delta)\n",
    "sequences_theta = np.array(sequences_theta)\n",
    "sequences_alpha1 = np.array(sequences_alpha1)\n",
    "sequences_alpha2 = np.array(sequences_alpha2)\n",
    "sequences_beta1 = np.array(sequences_beta1)\n",
    "sequences_beta2 = np.array(sequences_beta2)\n",
    "sequences_gamma1 = np.array(sequences_gamma1)\n",
    "sequences_gamma2 = np.array(sequences_gamma2)\n",
    "y = np.array(y)"
   ],
   "id": "bc199938d0bc65c8",
   "outputs": [],
   "execution_count": 5
  },
  {
   "metadata": {
    "ExecuteTime": {
     "end_time": "2024-12-14T12:37:28.536430Z",
     "start_time": "2024-12-14T12:37:28.531996Z"
    }
   },
   "cell_type": "code",
   "source": "sequences_delta",
   "id": "ef95f5594c4409d2",
   "outputs": [
    {
     "data": {
      "text/plain": [
       "array([[ 301963.,   73787.,  758353., ...,  341908.,    8588.,  256616.],\n",
       "       [  22853.,    8661.,   91553., ...,    7071.,  189432.,   12813.],\n",
       "       [ 587813.,  264810., 1817666., ..., 2311485.,  635374.,  557205.],\n",
       "       ...,\n",
       "       [ 610287.,  922704., 1772654., ...,  413902., 1320378.,   70489.],\n",
       "       [ 715551., 1447203.,  326369., ..., 2513121.,  350799.,  160566.],\n",
       "       [1035769., 2254114.,  541766., ...,  963015.,  118267.,  153327.]])"
      ]
     },
     "execution_count": 6,
     "metadata": {},
     "output_type": "execute_result"
    }
   ],
   "execution_count": 6
  },
  {
   "metadata": {
    "ExecuteTime": {
     "end_time": "2024-12-14T12:37:29.070042Z",
     "start_time": "2024-12-14T12:37:28.767600Z"
    }
   },
   "cell_type": "code",
   "source": [
    "from sklearn.preprocessing import StandardScaler\n",
    "scaler = StandardScaler()\n",
    "data = np.array([\n",
    "    scaler.fit_transform(sequences_delta),\n",
    "    scaler.fit_transform(sequences_theta),\n",
    "    scaler.fit_transform(sequences_alpha1),\n",
    "    scaler.fit_transform(sequences_alpha2),\n",
    "    scaler.fit_transform(sequences_beta1),\n",
    "    scaler.fit_transform(sequences_beta2),\n",
    "    scaler.fit_transform(sequences_gamma1),\n",
    "    scaler.fit_transform(sequences_gamma2),\n",
    "])"
   ],
   "id": "545d5dc28bce88c0",
   "outputs": [],
   "execution_count": 7
  },
  {
   "metadata": {
    "ExecuteTime": {
     "end_time": "2024-12-14T12:37:29.125688Z",
     "start_time": "2024-12-14T12:37:29.119151Z"
    }
   },
   "cell_type": "code",
   "source": "data[0]",
   "id": "76f9020bdae8a809",
   "outputs": [
    {
     "data": {
      "text/plain": [
       "array([[-0.61121355, -0.98145316, -0.0239494 , ..., -0.37986602,\n",
       "        -0.901142  , -0.48532111],\n",
       "       [-1.1251476 , -1.08354603, -0.93663816, ..., -0.93362   ,\n",
       "        -0.60713119, -0.90568964],\n",
       "       [-0.08486893, -0.68200154,  1.42599523, ...,  2.87742363,\n",
       "         0.1178681 ,  0.03295863],\n",
       "       ...,\n",
       "       [-0.04348685,  0.34932673,  1.36438463, ..., -0.26080223,\n",
       "         1.2315273 , -0.80624388],\n",
       "       [ 0.15033908,  1.17154224, -0.61523155, ...,  3.21088957,\n",
       "        -0.3447855 , -0.65093186],\n",
       "       [ 0.73996658,  2.43647265, -0.32040489, ...,  0.64732175,\n",
       "        -0.72282913, -0.66341345]])"
      ]
     },
     "execution_count": 8,
     "metadata": {},
     "output_type": "execute_result"
    }
   ],
   "execution_count": 8
  },
  {
   "metadata": {
    "ExecuteTime": {
     "end_time": "2024-12-14T12:37:29.441252Z",
     "start_time": "2024-12-14T12:37:29.434494Z"
    }
   },
   "cell_type": "code",
   "source": "y.shape",
   "id": "9d1f446427d5711",
   "outputs": [
    {
     "data": {
      "text/plain": [
       "(200,)"
      ]
     },
     "execution_count": 9,
     "metadata": {},
     "output_type": "execute_result"
    }
   ],
   "execution_count": 9
  },
  {
   "metadata": {
    "ExecuteTime": {
     "end_time": "2024-12-14T12:37:29.783030Z",
     "start_time": "2024-12-14T12:37:29.774926Z"
    }
   },
   "cell_type": "code",
   "source": [
    "df_dem = pd.read_csv('kaggle/confused-eeg/demographic_info.csv')\n",
    "df_dem.head()"
   ],
   "id": "48db23ce0dc972d2",
   "outputs": [
    {
     "data": {
      "text/plain": [
       "   subject ID   age    ethnicity  gender\n",
       "0           0    25  Han Chinese       M\n",
       "1           1    24  Han Chinese       M\n",
       "2           2    31      English       M\n",
       "3           3    28  Han Chinese       F\n",
       "4           4    24      Bengali       M"
      ],
      "text/html": [
       "<div>\n",
       "<style scoped>\n",
       "    .dataframe tbody tr th:only-of-type {\n",
       "        vertical-align: middle;\n",
       "    }\n",
       "\n",
       "    .dataframe tbody tr th {\n",
       "        vertical-align: top;\n",
       "    }\n",
       "\n",
       "    .dataframe thead th {\n",
       "        text-align: right;\n",
       "    }\n",
       "</style>\n",
       "<table border=\"1\" class=\"dataframe\">\n",
       "  <thead>\n",
       "    <tr style=\"text-align: right;\">\n",
       "      <th></th>\n",
       "      <th>subject ID</th>\n",
       "      <th>age</th>\n",
       "      <th>ethnicity</th>\n",
       "      <th>gender</th>\n",
       "    </tr>\n",
       "  </thead>\n",
       "  <tbody>\n",
       "    <tr>\n",
       "      <th>0</th>\n",
       "      <td>0</td>\n",
       "      <td>25</td>\n",
       "      <td>Han Chinese</td>\n",
       "      <td>M</td>\n",
       "    </tr>\n",
       "    <tr>\n",
       "      <th>1</th>\n",
       "      <td>1</td>\n",
       "      <td>24</td>\n",
       "      <td>Han Chinese</td>\n",
       "      <td>M</td>\n",
       "    </tr>\n",
       "    <tr>\n",
       "      <th>2</th>\n",
       "      <td>2</td>\n",
       "      <td>31</td>\n",
       "      <td>English</td>\n",
       "      <td>M</td>\n",
       "    </tr>\n",
       "    <tr>\n",
       "      <th>3</th>\n",
       "      <td>3</td>\n",
       "      <td>28</td>\n",
       "      <td>Han Chinese</td>\n",
       "      <td>F</td>\n",
       "    </tr>\n",
       "    <tr>\n",
       "      <th>4</th>\n",
       "      <td>4</td>\n",
       "      <td>24</td>\n",
       "      <td>Bengali</td>\n",
       "      <td>M</td>\n",
       "    </tr>\n",
       "  </tbody>\n",
       "</table>\n",
       "</div>"
      ]
     },
     "execution_count": 10,
     "metadata": {},
     "output_type": "execute_result"
    }
   ],
   "execution_count": 10
  },
  {
   "metadata": {
    "ExecuteTime": {
     "end_time": "2024-12-14T12:37:30.298963Z",
     "start_time": "2024-12-14T12:37:30.172788Z"
    }
   },
   "cell_type": "code",
   "source": [
    "plt.figure(figsize=(30, 3))\n",
    "plt.plot(sequences_alpha1[0])\n",
    "plt.plot(sequences_alpha1[10])"
   ],
   "id": "ea6d92b1e38747f",
   "outputs": [
    {
     "data": {
      "text/plain": [
       "[<matplotlib.lines.Line2D at 0x700ea21e9390>]"
      ]
     },
     "execution_count": 11,
     "metadata": {},
     "output_type": "execute_result"
    },
    {
     "data": {
      "text/plain": [
       "<Figure size 3000x300 with 1 Axes>"
      ],
      "image/png": "[encoded data removed]"
     },
     "metadata": {},
     "output_type": "display_data"
    }
   ],
   "execution_count": 11
  },
  {
   "metadata": {
    "ExecuteTime": {
     "end_time": "2024-12-14T12:37:31.721963Z",
     "start_time": "2024-12-14T12:37:30.543308Z"
    }
   },
   "cell_type": "code",
   "source": [
    "from keras.api.layers import Input, Dense, Concatenate, LSTM\n",
    "from keras.api.models import Model"
   ],
   "id": "20642c2a89cb1dce",
   "outputs": [
    {
     "name": "stderr",
     "output_type": "stream",
     "text": [
      "2024-12-14 13:37:30.717684: I tensorflow/core/util/port.cc:153] oneDNN custom operations are on. You may see slightly different numerical results due to floating-point round-off errors from different computation orders. To turn them off, set the environment variable `TF_ENABLE_ONEDNN_OPTS=0`.\n",
      "2024-12-14 13:37:30.728802: E external/local_xla/xla/stream_executor/cuda/cuda_fft.cc:477] Unable to register cuFFT factory: Attempting to register factory for plugin cuFFT when one has already been registered\n",
      "WARNING: All log messages before absl::InitializeLog() is called are written to STDERR\n",
      "E0000 00:00:1734179850.741737  136886 cuda_dnn.cc:8310] Unable to register cuDNN factory: Attempting to register factory for plugin cuDNN when one has already been registered\n",
      "E0000 00:00:1734179850.745686  136886 cuda_blas.cc:1418] Unable to register cuBLAS factory: Attempting to register factory for plugin cuBLAS when one has already been registered\n",
      "2024-12-14 13:37:30.758831: I tensorflow/core/platform/cpu_feature_guard.cc:210] This TensorFlow binary is optimized to use available CPU instructions in performance-critical operations.\n",
      "To enable the following instructions: AVX2 AVX_VNNI FMA, in other operations, rebuild TensorFlow with the appropriate compiler flags.\n"
     ]
    }
   ],
   "execution_count": 12
  },
  {
   "metadata": {
    "ExecuteTime": {
     "end_time": "2024-12-14T12:37:32.660635Z",
     "start_time": "2024-12-14T12:37:31.728480Z"
    }
   },
   "cell_type": "code",
   "source": [
    "# Define input layers\n",
    "input_delta = Input(shape=(seq_length, 1), name='eeg_delta')\n",
    "input_theta = Input(shape=(seq_length, 1), name='eeg_theta')\n",
    "input_alpha_1 = Input(shape=(seq_length, 1), name='eeg_alpha_1')\n",
    "input_alpha_2 = Input(shape=(seq_length, 1), name='eeg_alpha_2')\n",
    "input_beta_1 = Input(shape=(seq_length, 1), name='eeg_beta1')\n",
    "input_beta_2 = Input(shape=(seq_length, 1), name='eeg_beta2')\n",
    "input_gamma_1 = Input(shape=(seq_length, 1), name='eeg_gamma1')\n",
    "input_gamma_2 = Input(shape=(seq_length, 1), name='eeg_gamma2')\n",
    "\n",
    "lstm0 = LSTM(units=32, return_sequences=True, input_shape=(seq_length, 1))(input_delta)\n",
    "lstm1 = LSTM(units=32, return_sequences=True, input_shape=(seq_length, 1))(input_theta)\n",
    "lstm2 = LSTM(units=32, return_sequences=True, input_shape=(seq_length, 1))(input_alpha_1)\n",
    "lstm3 = LSTM(units=32, return_sequences=True, input_shape=(seq_length, 1))(input_alpha_2)\n",
    "lstm4 = LSTM(units=32, return_sequences=True, input_shape=(seq_length, 1))(input_beta_1)\n",
    "lstm5 = LSTM(units=32, return_sequences=True, input_shape=(seq_length, 1))(input_beta_2)\n",
    "lstm6 = LSTM(units=32, return_sequences=True, input_shape=(seq_length, 1))(input_gamma_1)\n",
    "lstm7 = LSTM(units=32, return_sequences=True, input_shape=(seq_length, 1))(input_gamma_2)\n",
    "\n",
    "lstm0_2 = LSTM(units=32, input_shape=(seq_length, 1))(lstm0)\n",
    "lstm1_2 = LSTM(units=32, input_shape=(seq_length, 1))(lstm1)\n",
    "lstm2_2 = LSTM(units=32, input_shape=(seq_length, 1))(lstm2)\n",
    "lstm3_2 = LSTM(units=32, input_shape=(seq_length, 1))(lstm3)\n",
    "lstm4_2 = LSTM(units=32, input_shape=(seq_length, 1))(lstm4)\n",
    "lstm5_2 = LSTM(units=32, input_shape=(seq_length, 1))(lstm5)\n",
    "lstm6_2 = LSTM(units=32, input_shape=(seq_length, 1))(lstm6)\n",
    "lstm7_2 = LSTM(units=32, input_shape=(seq_length, 1))(lstm7)\n",
    "\n",
    "combined = Concatenate()([\n",
    "    lstm0_2,\n",
    "    lstm1_2,\n",
    "    lstm2_2,\n",
    "    lstm3_2,\n",
    "    lstm4_2,\n",
    "    lstm5_2,\n",
    "    lstm6_2,\n",
    "    lstm7_2,\n",
    "])\n",
    "\n",
    "# Define the final output layer\n",
    "dense = Dense(32, activation=\"relu\")(combined)\n",
    "dense2 = Dense(16, activation=\"relu\")(dense)\n",
    "dense3 = Dense(8, activation=\"relu\")(dense2)\n",
    "dense4 = Dense(4, activation=\"relu\")(dense3)\n",
    "dense5 = Dense(2, activation=\"relu\")(dense4)\n",
    "output = Dense(1, activation='sigmoid')(dense5)  # binary classification output\n",
    "\n",
    "# Create the model\n",
    "model = Model(inputs=[\n",
    "    input_delta,\n",
    "    input_theta,\n",
    "    input_alpha_1,\n",
    "    input_alpha_2,\n",
    "    input_beta_1,\n",
    "    input_beta_2,\n",
    "    input_gamma_1,\n",
    "    input_gamma_2,\n",
    "], outputs=output)\n",
    "\n",
    "# Compile the model\n",
    "model.compile(optimizer='adam', loss='binary_crossentropy', metrics=['accuracy'])"
   ],
   "id": "d2bfb125d763bddd",
   "outputs": [
    {
     "name": "stderr",
     "output_type": "stream",
     "text": [
      "I0000 00:00:1734179851.915236  136886 gpu_device.cc:2022] Created device /job:localhost/replica:0/task:0/device:GPU:0 with 12198 MB memory:  -> device: 0, name: NVIDIA GeForce RTX 4090 Laptop GPU, pci bus id: 0000:01:00.0, compute capability: 8.9\n",
      "/home/kuba/PycharmProjects/VR_Sickness_prediction/.venv/lib/python3.10/site-packages/keras/src/layers/rnn/rnn.py:200: UserWarning: Do not pass an `input_shape`/`input_dim` argument to a layer. When using Sequential models, prefer using an `Input(shape)` object as the first layer in the model instead.\n",
      "  super().__init__(**kwargs)\n"
     ]
    }
   ],
   "execution_count": 13
  },
  {
   "metadata": {
    "ExecuteTime": {
     "end_time": "2024-12-14T12:37:32.768251Z",
     "start_time": "2024-12-14T12:37:32.673670Z"
    }
   },
   "cell_type": "code",
   "source": [
    "lstm0_2 = LSTM(units=32, input_shape=(seq_length, 1))(input_delta)\n",
    "lstm1_2 = LSTM(units=32, input_shape=(seq_length, 1))(input_theta)\n",
    "lstm2_2 = LSTM(units=32, input_shape=(seq_length, 1))(input_alpha_1)\n",
    "lstm3_2 = LSTM(units=32, input_shape=(seq_length, 1))(input_alpha_2)\n",
    "lstm4_2 = LSTM(units=32, input_shape=(seq_length, 1))(input_beta_1)\n",
    "lstm5_2 = LSTM(units=32, input_shape=(seq_length, 1))(input_beta_2)\n",
    "lstm6_2 = LSTM(units=32, input_shape=(seq_length, 1))(input_gamma_1)\n",
    "lstm7_2 = LSTM(units=32, input_shape=(seq_length, 1))(input_gamma_2)\n",
    "\n",
    "combined = Concatenate()([\n",
    "    lstm0_2,\n",
    "    lstm1_2,\n",
    "    lstm2_2,\n",
    "    lstm3_2,\n",
    "    lstm4_2,\n",
    "    lstm5_2,\n",
    "    lstm6_2,\n",
    "    lstm7_2,\n",
    "])\n",
    "\n",
    "dense = Dense(32, activation=\"relu\")(combined)\n",
    "dense2 = Dense(16, activation=\"relu\")(dense)\n",
    "dense3 = Dense(8, activation=\"relu\")(dense2)\n",
    "dense4 = Dense(4, activation=\"relu\")(dense3)\n",
    "dense5 = Dense(2, activation=\"relu\")(dense4)\n",
    "output = Dense(1, activation='sigmoid')(dense5)\n",
    "simple_model = Model(inputs=[\n",
    "    input_delta,\n",
    "    input_theta,\n",
    "    input_alpha_1,\n",
    "    input_alpha_2,\n",
    "    input_beta_1,\n",
    "    input_beta_2,\n",
    "    input_gamma_1,\n",
    "    input_gamma_2,\n",
    "],\n",
    "    outputs=output\n",
    ")\n",
    "\n",
    "# Compile the model\n",
    "simple_model.compile(optimizer='adam', loss='binary_crossentropy', metrics=['accuracy'])"
   ],
   "id": "de855ecbae0e4c0a",
   "outputs": [
    {
     "name": "stderr",
     "output_type": "stream",
     "text": [
      "/home/kuba/PycharmProjects/VR_Sickness_prediction/.venv/lib/python3.10/site-packages/keras/src/layers/rnn/rnn.py:200: UserWarning: Do not pass an `input_shape`/`input_dim` argument to a layer. When using Sequential models, prefer using an `Input(shape)` object as the first layer in the model instead.\n",
      "  super().__init__(**kwargs)\n"
     ]
    }
   ],
   "execution_count": 14
  },
  {
   "metadata": {
    "ExecuteTime": {
     "end_time": "2024-12-14T12:39:30.643745Z",
     "start_time": "2024-12-14T12:39:30.638001Z"
    }
   },
   "cell_type": "code",
   "source": [
    "permutation = np.random.permutation(data.shape[1])\n",
    "data = data[:, permutation]\n",
    "y = y[permutation]"
   ],
   "id": "5106eda2f938ec66",
   "outputs": [],
   "execution_count": 26
  },
  {
   "metadata": {
    "ExecuteTime": {
     "end_time": "2024-12-14T12:39:30.897011Z",
     "start_time": "2024-12-14T12:39:30.890917Z"
    }
   },
   "cell_type": "code",
   "source": "data.shape",
   "id": "6066d97263a34b31",
   "outputs": [
    {
     "data": {
      "text/plain": [
       "(8, 200, 50)"
      ]
     },
     "execution_count": 27,
     "metadata": {},
     "output_type": "execute_result"
    }
   ],
   "execution_count": 27
  },
  {
   "metadata": {
    "ExecuteTime": {
     "end_time": "2024-12-14T12:39:31.357520Z",
     "start_time": "2024-12-14T12:39:31.351527Z"
    }
   },
   "cell_type": "code",
   "source": "y.shape",
   "id": "8ec93fd6671e94b6",
   "outputs": [
    {
     "data": {
      "text/plain": [
       "(200,)"
      ]
     },
     "execution_count": 28,
     "metadata": {},
     "output_type": "execute_result"
    }
   ],
   "execution_count": 28
  },
  {
   "metadata": {
    "ExecuteTime": {
     "end_time": "2024-12-14T12:39:32.229025Z",
     "start_time": "2024-12-14T12:39:32.224008Z"
    }
   },
   "cell_type": "code",
   "source": [
    "train_data = data[:, 0:160]\n",
    "test_data = data[:, 160:200]\n",
    "train_y = y[0:160]\n",
    "test_y = y[160:200]"
   ],
   "id": "e3bff3bf9b2fa386",
   "outputs": [],
   "execution_count": 29
  },
  {
   "metadata": {
    "ExecuteTime": {
     "end_time": "2024-12-14T12:39:32.434524Z",
     "start_time": "2024-12-14T12:39:32.430274Z"
    }
   },
   "cell_type": "code",
   "source": [
    "print(train_data.shape)\n",
    "print(test_data.shape)\n",
    "print(train_y.shape)\n",
    "print(test_y.shape)"
   ],
   "id": "3fda57b91e9b4c7b",
   "outputs": [
    {
     "name": "stdout",
     "output_type": "stream",
     "text": [
      "(8, 160, 50)\n",
      "(8, 40, 50)\n",
      "(160,)\n",
      "(40,)\n"
     ]
    }
   ],
   "execution_count": 30
  },
  {
   "metadata": {
    "ExecuteTime": {
     "end_time": "2024-12-14T12:39:33.600690Z",
     "start_time": "2024-12-14T12:39:33.594256Z"
    }
   },
   "cell_type": "code",
   "source": "train_y",
   "id": "179d92345d14462f",
   "outputs": [
    {
     "data": {
      "text/plain": [
       "array([0., 1., 0., 0., 1., 0., 0., 1., 1., 1., 1., 1., 1., 0., 1., 1., 0.,\n",
       "       0., 0., 0., 1., 1., 1., 0., 0., 0., 0., 0., 0., 1., 0., 1., 1., 1.,\n",
       "       1., 1., 1., 0., 1., 1., 1., 0., 1., 0., 1., 0., 1., 0., 1., 1., 0.,\n",
       "       0., 0., 0., 0., 0., 0., 0., 0., 1., 0., 1., 1., 1., 0., 0., 0., 1.,\n",
       "       1., 1., 0., 0., 0., 1., 0., 0., 1., 0., 1., 1., 1., 1., 1., 1., 0.,\n",
       "       1., 0., 0., 1., 1., 1., 1., 0., 1., 0., 1., 1., 0., 1., 1., 0., 1.,\n",
       "       1., 0., 0., 0., 0., 0., 1., 1., 0., 0., 0., 0., 1., 1., 1., 1., 1.,\n",
       "       1., 1., 0., 0., 1., 1., 1., 1., 0., 1., 0., 1., 0., 0., 0., 0., 1.,\n",
       "       1., 0., 0., 0., 0., 1., 1., 1., 0., 0., 0., 1., 0., 1., 1., 0., 0.,\n",
       "       0., 0., 0., 1., 1., 0., 1.])"
      ]
     },
     "execution_count": 31,
     "metadata": {},
     "output_type": "execute_result"
    }
   ],
   "execution_count": 31
  },
  {
   "metadata": {
    "ExecuteTime": {
     "end_time": "2024-12-14T12:39:33.823533Z",
     "start_time": "2024-12-14T12:39:33.817236Z"
    }
   },
   "cell_type": "code",
   "source": "test_y",
   "id": "dfff0a5ec4b48e65",
   "outputs": [
    {
     "data": {
      "text/plain": [
       "array([0., 1., 0., 1., 1., 1., 0., 0., 0., 0., 0., 1., 1., 1., 1., 0., 1.,\n",
       "       0., 1., 0., 1., 1., 0., 0., 1., 0., 1., 0., 1., 0., 1., 0., 1., 0.,\n",
       "       1., 1., 0., 1., 0., 1.])"
      ]
     },
     "execution_count": 32,
     "metadata": {},
     "output_type": "execute_result"
    }
   ],
   "execution_count": 32
  },
  {
   "metadata": {
    "ExecuteTime": {
     "end_time": "2024-12-14T12:42:37.903627Z",
     "start_time": "2024-12-14T12:41:49.344680Z"
    }
   },
   "cell_type": "code",
   "source": [
    "history = model.fit(x=[\n",
    "    train_data[0],\n",
    "    train_data[1],\n",
    "    train_data[2],\n",
    "    train_data[3],\n",
    "    train_data[4],\n",
    "    train_data[5],\n",
    "    train_data[6],\n",
    "    train_data[7],\n",
    "],\n",
    "    y=train_y,\n",
    "    epochs=100,\n",
    "    batch_size=10,\n",
    "    validation_data=([\n",
    "                         test_data[0],\n",
    "                         test_data[1],\n",
    "                         test_data[2],\n",
    "                         test_data[3],\n",
    "                         test_data[4],\n",
    "                         test_data[5],\n",
    "                         test_data[6],\n",
    "                         test_data[7],\n",
    "                     ], test_y)\n",
    ")"
   ],
   "id": "eaa1c84dda516910",
   "outputs": [
    {
     "name": "stdout",
     "output_type": "stream",
     "text": [
      "Epoch 1/100\n",
      "\u001B[1m16/16\u001B[0m \u001B[32m━━━━━━━━━━━━━━━━━━━━\u001B[0m\u001B[37m\u001B[0m \u001B[1m1s\u001B[0m 33ms/step - accuracy: 0.9000 - loss: 0.3880 - val_accuracy: 0.7250 - val_loss: 0.7847\n",
      "Epoch 2/100\n",
      "\u001B[1m16/16\u001B[0m \u001B[32m━━━━━━━━━━━━━━━━━━━━\u001B[0m\u001B[37m\u001B[0m \u001B[1m1s\u001B[0m 35ms/step - accuracy: 0.9214 - loss: 0.2330 - val_accuracy: 0.7250 - val_loss: 0.7210\n",
      "Epoch 3/100\n",
      "\u001B[1m16/16\u001B[0m \u001B[32m━━━━━━━━━━━━━━━━━━━━\u001B[0m\u001B[37m\u001B[0m \u001B[1m1s\u001B[0m 33ms/step - accuracy: 0.9534 - loss: 0.1758 - val_accuracy: 0.7500 - val_loss: 0.5101\n",
      "Epoch 4/100\n",
      "\u001B[1m16/16\u001B[0m \u001B[32m━━━━━━━━━━━━━━━━━━━━\u001B[0m\u001B[37m\u001B[0m \u001B[1m0s\u001B[0m 29ms/step - accuracy: 0.9030 - loss: 0.2606 - val_accuracy: 0.7000 - val_loss: 0.6966\n",
      "Epoch 5/100\n",
      "\u001B[1m16/16\u001B[0m \u001B[32m━━━━━━━━━━━━━━━━━━━━\u001B[0m\u001B[37m\u001B[0m \u001B[1m0s\u001B[0m 30ms/step - accuracy: 0.9472 - loss: 0.1688 - val_accuracy: 0.7250 - val_loss: 0.6628\n",
      "Epoch 6/100\n",
      "\u001B[1m16/16\u001B[0m \u001B[32m━━━━━━━━━━━━━━━━━━━━\u001B[0m\u001B[37m\u001B[0m \u001B[1m0s\u001B[0m 29ms/step - accuracy: 0.9689 - loss: 0.1128 - val_accuracy: 0.7500 - val_loss: 0.6372\n",
      "Epoch 7/100\n",
      "\u001B[1m16/16\u001B[0m \u001B[32m━━━━━━━━━━━━━━━━━━━━\u001B[0m\u001B[37m\u001B[0m \u001B[1m1s\u001B[0m 31ms/step - accuracy: 0.9692 - loss: 0.1132 - val_accuracy: 0.7750 - val_loss: 0.5805\n",
      "Epoch 8/100\n",
      "\u001B[1m16/16\u001B[0m \u001B[32m━━━━━━━━━━━━━━━━━━━━\u001B[0m\u001B[37m\u001B[0m \u001B[1m1s\u001B[0m 31ms/step - accuracy: 0.9462 - loss: 0.1557 - val_accuracy: 0.7750 - val_loss: 0.5439\n",
      "Epoch 9/100\n",
      "\u001B[1m16/16\u001B[0m \u001B[32m━━━━━━━━━━━━━━━━━━━━\u001B[0m\u001B[37m\u001B[0m \u001B[1m1s\u001B[0m 32ms/step - accuracy: 0.9556 - loss: 0.1245 - val_accuracy: 0.7250 - val_loss: 0.5867\n",
      "Epoch 10/100\n",
      "\u001B[1m16/16\u001B[0m \u001B[32m━━━━━━━━━━━━━━━━━━━━\u001B[0m\u001B[37m\u001B[0m \u001B[1m1s\u001B[0m 32ms/step - accuracy: 0.9470 - loss: 0.1597 - val_accuracy: 0.7250 - val_loss: 0.6609\n",
      "Epoch 11/100\n",
      "\u001B[1m16/16\u001B[0m \u001B[32m━━━━━━━━━━━━━━━━━━━━\u001B[0m\u001B[37m\u001B[0m \u001B[1m1s\u001B[0m 35ms/step - accuracy: 0.9250 - loss: 0.1817 - val_accuracy: 0.6750 - val_loss: 0.8587\n",
      "Epoch 12/100\n",
      "\u001B[1m16/16\u001B[0m \u001B[32m━━━━━━━━━━━━━━━━━━━━\u001B[0m\u001B[37m\u001B[0m \u001B[1m1s\u001B[0m 35ms/step - accuracy: 0.9697 - loss: 0.0941 - val_accuracy: 0.7000 - val_loss: 0.9049\n",
      "Epoch 13/100\n",
      "\u001B[1m16/16\u001B[0m \u001B[32m━━━━━━━━━━━━━━━━━━━━\u001B[0m\u001B[37m\u001B[0m \u001B[1m0s\u001B[0m 30ms/step - accuracy: 0.9799 - loss: 0.0685 - val_accuracy: 0.7250 - val_loss: 0.7857\n",
      "Epoch 14/100\n",
      "\u001B[1m16/16\u001B[0m \u001B[32m━━━━━━━━━━━━━━━━━━━━\u001B[0m\u001B[37m\u001B[0m \u001B[1m0s\u001B[0m 29ms/step - accuracy: 0.9677 - loss: 0.0957 - val_accuracy: 0.7000 - val_loss: 0.8730\n",
      "Epoch 15/100\n",
      "\u001B[1m16/16\u001B[0m \u001B[32m━━━━━━━━━━━━━━━━━━━━\u001B[0m\u001B[37m\u001B[0m \u001B[1m0s\u001B[0m 30ms/step - accuracy: 0.9594 - loss: 0.1230 - val_accuracy: 0.7000 - val_loss: 0.8279\n",
      "Epoch 16/100\n",
      "\u001B[1m16/16\u001B[0m \u001B[32m━━━━━━━━━━━━━━━━━━━━\u001B[0m\u001B[37m\u001B[0m \u001B[1m0s\u001B[0m 29ms/step - accuracy: 0.9457 - loss: 0.1586 - val_accuracy: 0.7000 - val_loss: 1.0155\n",
      "Epoch 17/100\n",
      "\u001B[1m16/16\u001B[0m \u001B[32m━━━━━━━━━━━━━━━━━━━━\u001B[0m\u001B[37m\u001B[0m \u001B[1m0s\u001B[0m 27ms/step - accuracy: 0.9397 - loss: 0.1578 - val_accuracy: 0.7250 - val_loss: 0.9690\n",
      "Epoch 18/100\n",
      "\u001B[1m16/16\u001B[0m \u001B[32m━━━━━━━━━━━━━━━━━━━━\u001B[0m\u001B[37m\u001B[0m \u001B[1m0s\u001B[0m 30ms/step - accuracy: 0.9549 - loss: 0.1190 - val_accuracy: 0.7250 - val_loss: 0.9733\n",
      "Epoch 19/100\n",
      "\u001B[1m16/16\u001B[0m \u001B[32m━━━━━━━━━━━━━━━━━━━━\u001B[0m\u001B[37m\u001B[0m \u001B[1m0s\u001B[0m 28ms/step - accuracy: 0.9676 - loss: 0.0989 - val_accuracy: 0.7000 - val_loss: 1.0459\n",
      "Epoch 20/100\n",
      "\u001B[1m16/16\u001B[0m \u001B[32m━━━━━━━━━━━━━━━━━━━━\u001B[0m\u001B[37m\u001B[0m \u001B[1m0s\u001B[0m 29ms/step - accuracy: 0.9594 - loss: 0.1050 - val_accuracy: 0.7500 - val_loss: 0.8723\n",
      "Epoch 21/100\n",
      "\u001B[1m16/16\u001B[0m \u001B[32m━━━━━━━━━━━━━━━━━━━━\u001B[0m\u001B[37m\u001B[0m \u001B[1m0s\u001B[0m 30ms/step - accuracy: 0.9601 - loss: 0.1161 - val_accuracy: 0.7250 - val_loss: 0.9477\n",
      "Epoch 22/100\n",
      "\u001B[1m16/16\u001B[0m \u001B[32m━━━━━━━━━━━━━━━━━━━━\u001B[0m\u001B[37m\u001B[0m \u001B[1m0s\u001B[0m 30ms/step - accuracy: 0.9766 - loss: 0.0690 - val_accuracy: 0.7250 - val_loss: 1.0742\n",
      "Epoch 23/100\n",
      "\u001B[1m16/16\u001B[0m \u001B[32m━━━━━━━━━━━━━━━━━━━━\u001B[0m\u001B[37m\u001B[0m \u001B[1m1s\u001B[0m 31ms/step - accuracy: 0.9873 - loss: 0.0534 - val_accuracy: 0.7250 - val_loss: 1.0941\n",
      "Epoch 24/100\n",
      "\u001B[1m16/16\u001B[0m \u001B[32m━━━━━━━━━━━━━━━━━━━━\u001B[0m\u001B[37m\u001B[0m \u001B[1m0s\u001B[0m 29ms/step - accuracy: 0.9792 - loss: 0.0667 - val_accuracy: 0.7250 - val_loss: 1.0838\n",
      "Epoch 25/100\n",
      "\u001B[1m16/16\u001B[0m \u001B[32m━━━━━━━━━━━━━━━━━━━━\u001B[0m\u001B[37m\u001B[0m \u001B[1m0s\u001B[0m 29ms/step - accuracy: 0.9709 - loss: 0.0752 - val_accuracy: 0.7000 - val_loss: 1.1510\n",
      "Epoch 26/100\n",
      "\u001B[1m16/16\u001B[0m \u001B[32m━━━━━━━━━━━━━━━━━━━━\u001B[0m\u001B[37m\u001B[0m \u001B[1m0s\u001B[0m 28ms/step - accuracy: 0.9681 - loss: 0.0770 - val_accuracy: 0.7250 - val_loss: 1.0577\n",
      "Epoch 27/100\n",
      "\u001B[1m16/16\u001B[0m \u001B[32m━━━━━━━━━━━━━━━━━━━━\u001B[0m\u001B[37m\u001B[0m \u001B[1m0s\u001B[0m 28ms/step - accuracy: 0.9614 - loss: 0.0892 - val_accuracy: 0.7250 - val_loss: 1.0451\n",
      "Epoch 28/100\n",
      "\u001B[1m16/16\u001B[0m \u001B[32m━━━━━━━━━━━━━━━━━━━━\u001B[0m\u001B[37m\u001B[0m \u001B[1m0s\u001B[0m 29ms/step - accuracy: 0.9330 - loss: 0.1626 - val_accuracy: 0.7500 - val_loss: 0.9802\n",
      "Epoch 29/100\n",
      "\u001B[1m16/16\u001B[0m \u001B[32m━━━━━━━━━━━━━━━━━━━━\u001B[0m\u001B[37m\u001B[0m \u001B[1m0s\u001B[0m 29ms/step - accuracy: 0.9077 - loss: 0.2462 - val_accuracy: 0.7500 - val_loss: 0.9544\n",
      "Epoch 30/100\n",
      "\u001B[1m16/16\u001B[0m \u001B[32m━━━━━━━━━━━━━━━━━━━━\u001B[0m\u001B[37m\u001B[0m \u001B[1m0s\u001B[0m 27ms/step - accuracy: 0.9564 - loss: 0.1180 - val_accuracy: 0.8000 - val_loss: 0.5846\n",
      "Epoch 31/100\n",
      "\u001B[1m16/16\u001B[0m \u001B[32m━━━━━━━━━━━━━━━━━━━━\u001B[0m\u001B[37m\u001B[0m \u001B[1m0s\u001B[0m 30ms/step - accuracy: 0.9272 - loss: 0.1611 - val_accuracy: 0.7750 - val_loss: 0.7890\n",
      "Epoch 32/100\n",
      "\u001B[1m16/16\u001B[0m \u001B[32m━━━━━━━━━━━━━━━━━━━━\u001B[0m\u001B[37m\u001B[0m \u001B[1m0s\u001B[0m 28ms/step - accuracy: 0.9528 - loss: 0.1471 - val_accuracy: 0.8250 - val_loss: 0.6389\n",
      "Epoch 33/100\n",
      "\u001B[1m16/16\u001B[0m \u001B[32m━━━━━━━━━━━━━━━━━━━━\u001B[0m\u001B[37m\u001B[0m \u001B[1m0s\u001B[0m 28ms/step - accuracy: 0.9528 - loss: 0.1140 - val_accuracy: 0.8000 - val_loss: 0.5031\n",
      "Epoch 34/100\n",
      "\u001B[1m16/16\u001B[0m \u001B[32m━━━━━━━━━━━━━━━━━━━━\u001B[0m\u001B[37m\u001B[0m \u001B[1m0s\u001B[0m 28ms/step - accuracy: 0.9640 - loss: 0.0863 - val_accuracy: 0.8000 - val_loss: 0.6372\n",
      "Epoch 35/100\n",
      "\u001B[1m16/16\u001B[0m \u001B[32m━━━━━━━━━━━━━━━━━━━━\u001B[0m\u001B[37m\u001B[0m \u001B[1m0s\u001B[0m 28ms/step - accuracy: 0.9741 - loss: 0.0757 - val_accuracy: 0.7750 - val_loss: 0.6025\n",
      "Epoch 36/100\n",
      "\u001B[1m16/16\u001B[0m \u001B[32m━━━━━━━━━━━━━━━━━━━━\u001B[0m\u001B[37m\u001B[0m \u001B[1m0s\u001B[0m 30ms/step - accuracy: 0.9767 - loss: 0.0788 - val_accuracy: 0.7250 - val_loss: 0.7296\n",
      "Epoch 37/100\n",
      "\u001B[1m16/16\u001B[0m \u001B[32m━━━━━━━━━━━━━━━━━━━━\u001B[0m\u001B[37m\u001B[0m \u001B[1m0s\u001B[0m 29ms/step - accuracy: 0.9761 - loss: 0.0651 - val_accuracy: 0.7250 - val_loss: 0.8085\n",
      "Epoch 38/100\n",
      "\u001B[1m16/16\u001B[0m \u001B[32m━━━━━━━━━━━━━━━━━━━━\u001B[0m\u001B[37m\u001B[0m \u001B[1m0s\u001B[0m 28ms/step - accuracy: 0.9550 - loss: 0.1006 - val_accuracy: 0.7250 - val_loss: 0.8041\n",
      "Epoch 39/100\n",
      "\u001B[1m16/16\u001B[0m \u001B[32m━━━━━━━━━━━━━━━━━━━━\u001B[0m\u001B[37m\u001B[0m \u001B[1m0s\u001B[0m 29ms/step - accuracy: 0.9797 - loss: 0.0539 - val_accuracy: 0.7250 - val_loss: 0.8437\n",
      "Epoch 40/100\n",
      "\u001B[1m16/16\u001B[0m \u001B[32m━━━━━━━━━━━━━━━━━━━━\u001B[0m\u001B[37m\u001B[0m \u001B[1m1s\u001B[0m 31ms/step - accuracy: 0.9649 - loss: 0.0831 - val_accuracy: 0.7250 - val_loss: 0.8194\n",
      "Epoch 41/100\n",
      "\u001B[1m16/16\u001B[0m \u001B[32m━━━━━━━━━━━━━━━━━━━━\u001B[0m\u001B[37m\u001B[0m \u001B[1m0s\u001B[0m 29ms/step - accuracy: 0.9672 - loss: 0.0664 - val_accuracy: 0.7250 - val_loss: 0.9709\n",
      "Epoch 42/100\n",
      "\u001B[1m16/16\u001B[0m \u001B[32m━━━━━━━━━━━━━━━━━━━━\u001B[0m\u001B[37m\u001B[0m \u001B[1m0s\u001B[0m 28ms/step - accuracy: 0.9690 - loss: 0.0769 - val_accuracy: 0.7250 - val_loss: 0.8577\n",
      "Epoch 43/100\n",
      "\u001B[1m16/16\u001B[0m \u001B[32m━━━━━━━━━━━━━━━━━━━━\u001B[0m\u001B[37m\u001B[0m \u001B[1m0s\u001B[0m 27ms/step - accuracy: 0.9418 - loss: 0.1091 - val_accuracy: 0.7250 - val_loss: 0.9622\n",
      "Epoch 44/100\n",
      "\u001B[1m16/16\u001B[0m \u001B[32m━━━━━━━━━━━━━━━━━━━━\u001B[0m\u001B[37m\u001B[0m \u001B[1m1s\u001B[0m 30ms/step - accuracy: 0.9826 - loss: 0.0549 - val_accuracy: 0.7000 - val_loss: 0.9086\n",
      "Epoch 45/100\n",
      "\u001B[1m16/16\u001B[0m \u001B[32m━━━━━━━━━━━━━━━━━━━━\u001B[0m\u001B[37m\u001B[0m \u001B[1m0s\u001B[0m 28ms/step - accuracy: 0.9580 - loss: 0.1005 - val_accuracy: 0.7250 - val_loss: 0.6631\n",
      "Epoch 46/100\n",
      "\u001B[1m16/16\u001B[0m \u001B[32m━━━━━━━━━━━━━━━━━━━━\u001B[0m\u001B[37m\u001B[0m \u001B[1m0s\u001B[0m 30ms/step - accuracy: 0.9561 - loss: 0.0882 - val_accuracy: 0.7500 - val_loss: 0.6718\n",
      "Epoch 47/100\n",
      "\u001B[1m16/16\u001B[0m \u001B[32m━━━━━━━━━━━━━━━━━━━━\u001B[0m\u001B[37m\u001B[0m \u001B[1m0s\u001B[0m 28ms/step - accuracy: 0.9695 - loss: 0.0624 - val_accuracy: 0.7500 - val_loss: 0.7027\n",
      "Epoch 48/100\n",
      "\u001B[1m16/16\u001B[0m \u001B[32m━━━━━━━━━━━━━━━━━━━━\u001B[0m\u001B[37m\u001B[0m \u001B[1m0s\u001B[0m 29ms/step - accuracy: 0.9634 - loss: 0.0828 - val_accuracy: 0.7750 - val_loss: 0.7325\n",
      "Epoch 49/100\n",
      "\u001B[1m16/16\u001B[0m \u001B[32m━━━━━━━━━━━━━━━━━━━━\u001B[0m\u001B[37m\u001B[0m \u001B[1m0s\u001B[0m 27ms/step - accuracy: 0.9702 - loss: 0.0863 - val_accuracy: 0.7000 - val_loss: 0.9016\n",
      "Epoch 50/100\n",
      "\u001B[1m16/16\u001B[0m \u001B[32m━━━━━━━━━━━━━━━━━━━━\u001B[0m\u001B[37m\u001B[0m \u001B[1m1s\u001B[0m 31ms/step - accuracy: 0.9694 - loss: 0.0746 - val_accuracy: 0.7500 - val_loss: 0.9961\n",
      "Epoch 51/100\n",
      "\u001B[1m16/16\u001B[0m \u001B[32m━━━━━━━━━━━━━━━━━━━━\u001B[0m\u001B[37m\u001B[0m \u001B[1m1s\u001B[0m 31ms/step - accuracy: 0.9599 - loss: 0.0988 - val_accuracy: 0.7000 - val_loss: 0.9689\n",
      "Epoch 52/100\n",
      "\u001B[1m16/16\u001B[0m \u001B[32m━━━━━━━━━━━━━━━━━━━━\u001B[0m\u001B[37m\u001B[0m \u001B[1m0s\u001B[0m 29ms/step - accuracy: 0.9733 - loss: 0.0757 - val_accuracy: 0.7500 - val_loss: 0.8190\n",
      "Epoch 53/100\n",
      "\u001B[1m16/16\u001B[0m \u001B[32m━━━━━━━━━━━━━━━━━━━━\u001B[0m\u001B[37m\u001B[0m \u001B[1m0s\u001B[0m 29ms/step - accuracy: 0.9671 - loss: 0.0767 - val_accuracy: 0.8000 - val_loss: 0.7675\n",
      "Epoch 54/100\n",
      "\u001B[1m16/16\u001B[0m \u001B[32m━━━━━━━━━━━━━━━━━━━━\u001B[0m\u001B[37m\u001B[0m \u001B[1m0s\u001B[0m 29ms/step - accuracy: 0.9746 - loss: 0.0634 - val_accuracy: 0.7750 - val_loss: 0.7717\n",
      "Epoch 55/100\n",
      "\u001B[1m16/16\u001B[0m \u001B[32m━━━━━━━━━━━━━━━━━━━━\u001B[0m\u001B[37m\u001B[0m \u001B[1m0s\u001B[0m 28ms/step - accuracy: 0.9803 - loss: 0.0491 - val_accuracy: 0.7250 - val_loss: 0.8338\n",
      "Epoch 56/100\n",
      "\u001B[1m16/16\u001B[0m \u001B[32m━━━━━━━━━━━━━━━━━━━━\u001B[0m\u001B[37m\u001B[0m \u001B[1m1s\u001B[0m 31ms/step - accuracy: 0.9746 - loss: 0.0672 - val_accuracy: 0.7250 - val_loss: 0.8574\n",
      "Epoch 57/100\n",
      "\u001B[1m16/16\u001B[0m \u001B[32m━━━━━━━━━━━━━━━━━━━━\u001B[0m\u001B[37m\u001B[0m \u001B[1m0s\u001B[0m 29ms/step - accuracy: 0.9688 - loss: 0.0726 - val_accuracy: 0.7250 - val_loss: 0.9087\n",
      "Epoch 58/100\n",
      "\u001B[1m16/16\u001B[0m \u001B[32m━━━━━━━━━━━━━━━━━━━━\u001B[0m\u001B[37m\u001B[0m \u001B[1m0s\u001B[0m 29ms/step - accuracy: 0.9780 - loss: 0.0593 - val_accuracy: 0.7250 - val_loss: 1.0212\n",
      "Epoch 59/100\n",
      "\u001B[1m16/16\u001B[0m \u001B[32m━━━━━━━━━━━━━━━━━━━━\u001B[0m\u001B[37m\u001B[0m \u001B[1m0s\u001B[0m 29ms/step - accuracy: 0.9469 - loss: 0.1053 - val_accuracy: 0.7250 - val_loss: 1.0132\n",
      "Epoch 60/100\n",
      "\u001B[1m16/16\u001B[0m \u001B[32m━━━━━━━━━━━━━━━━━━━━\u001B[0m\u001B[37m\u001B[0m \u001B[1m0s\u001B[0m 30ms/step - accuracy: 0.9395 - loss: 0.1179 - val_accuracy: 0.7000 - val_loss: 1.1736\n",
      "Epoch 61/100\n",
      "\u001B[1m16/16\u001B[0m \u001B[32m━━━━━━━━━━━━━━━━━━━━\u001B[0m\u001B[37m\u001B[0m \u001B[1m0s\u001B[0m 28ms/step - accuracy: 0.9559 - loss: 0.0916 - val_accuracy: 0.7250 - val_loss: 1.0050\n",
      "Epoch 62/100\n",
      "\u001B[1m16/16\u001B[0m \u001B[32m━━━━━━━━━━━━━━━━━━━━\u001B[0m\u001B[37m\u001B[0m \u001B[1m0s\u001B[0m 28ms/step - accuracy: 0.9524 - loss: 0.1001 - val_accuracy: 0.7250 - val_loss: 0.9885\n",
      "Epoch 63/100\n",
      "\u001B[1m16/16\u001B[0m \u001B[32m━━━━━━━━━━━━━━━━━━━━\u001B[0m\u001B[37m\u001B[0m \u001B[1m0s\u001B[0m 28ms/step - accuracy: 0.9593 - loss: 0.0838 - val_accuracy: 0.7250 - val_loss: 1.1290\n",
      "Epoch 64/100\n",
      "\u001B[1m16/16\u001B[0m \u001B[32m━━━━━━━━━━━━━━━━━━━━\u001B[0m\u001B[37m\u001B[0m \u001B[1m0s\u001B[0m 28ms/step - accuracy: 0.9331 - loss: 0.1280 - val_accuracy: 0.7000 - val_loss: 1.0338\n",
      "Epoch 65/100\n",
      "\u001B[1m16/16\u001B[0m \u001B[32m━━━━━━━━━━━━━━━━━━━━\u001B[0m\u001B[37m\u001B[0m \u001B[1m0s\u001B[0m 30ms/step - accuracy: 0.9634 - loss: 0.0827 - val_accuracy: 0.7500 - val_loss: 0.7452\n",
      "Epoch 66/100\n",
      "\u001B[1m16/16\u001B[0m \u001B[32m━━━━━━━━━━━━━━━━━━━━\u001B[0m\u001B[37m\u001B[0m \u001B[1m0s\u001B[0m 28ms/step - accuracy: 0.9427 - loss: 0.1237 - val_accuracy: 0.6750 - val_loss: 1.2312\n",
      "Epoch 67/100\n",
      "\u001B[1m16/16\u001B[0m \u001B[32m━━━━━━━━━━━━━━━━━━━━\u001B[0m\u001B[37m\u001B[0m \u001B[1m0s\u001B[0m 29ms/step - accuracy: 0.9566 - loss: 0.1071 - val_accuracy: 0.8000 - val_loss: 0.6068\n",
      "Epoch 68/100\n",
      "\u001B[1m16/16\u001B[0m \u001B[32m━━━━━━━━━━━━━━━━━━━━\u001B[0m\u001B[37m\u001B[0m \u001B[1m0s\u001B[0m 28ms/step - accuracy: 0.9640 - loss: 0.1037 - val_accuracy: 0.7250 - val_loss: 0.7470\n",
      "Epoch 69/100\n",
      "\u001B[1m16/16\u001B[0m \u001B[32m━━━━━━━━━━━━━━━━━━━━\u001B[0m\u001B[37m\u001B[0m \u001B[1m0s\u001B[0m 29ms/step - accuracy: 0.9461 - loss: 0.1371 - val_accuracy: 0.7500 - val_loss: 0.7702\n",
      "Epoch 70/100\n",
      "\u001B[1m16/16\u001B[0m \u001B[32m━━━━━━━━━━━━━━━━━━━━\u001B[0m\u001B[37m\u001B[0m \u001B[1m0s\u001B[0m 30ms/step - accuracy: 0.9264 - loss: 0.1809 - val_accuracy: 0.7250 - val_loss: 1.0622\n",
      "Epoch 71/100\n",
      "\u001B[1m16/16\u001B[0m \u001B[32m━━━━━━━━━━━━━━━━━━━━\u001B[0m\u001B[37m\u001B[0m \u001B[1m0s\u001B[0m 29ms/step - accuracy: 0.8861 - loss: 0.3812 - val_accuracy: 0.7250 - val_loss: 1.1612\n",
      "Epoch 72/100\n",
      "\u001B[1m16/16\u001B[0m \u001B[32m━━━━━━━━━━━━━━━━━━━━\u001B[0m\u001B[37m\u001B[0m \u001B[1m0s\u001B[0m 28ms/step - accuracy: 0.9150 - loss: 0.2040 - val_accuracy: 0.7000 - val_loss: 1.4729\n",
      "Epoch 73/100\n",
      "\u001B[1m16/16\u001B[0m \u001B[32m━━━━━━━━━━━━━━━━━━━━\u001B[0m\u001B[37m\u001B[0m \u001B[1m0s\u001B[0m 28ms/step - accuracy: 0.9143 - loss: 0.1881 - val_accuracy: 0.7000 - val_loss: 0.9405\n",
      "Epoch 74/100\n",
      "\u001B[1m16/16\u001B[0m \u001B[32m━━━━━━━━━━━━━━━━━━━━\u001B[0m\u001B[37m\u001B[0m \u001B[1m1s\u001B[0m 31ms/step - accuracy: 0.9750 - loss: 0.0805 - val_accuracy: 0.7500 - val_loss: 0.9179\n",
      "Epoch 75/100\n",
      "\u001B[1m16/16\u001B[0m \u001B[32m━━━━━━━━━━━━━━━━━━━━\u001B[0m\u001B[37m\u001B[0m \u001B[1m1s\u001B[0m 31ms/step - accuracy: 0.9783 - loss: 0.0634 - val_accuracy: 0.7250 - val_loss: 0.9590\n",
      "Epoch 76/100\n",
      "\u001B[1m16/16\u001B[0m \u001B[32m━━━━━━━━━━━━━━━━━━━━\u001B[0m\u001B[37m\u001B[0m \u001B[1m0s\u001B[0m 27ms/step - accuracy: 0.9780 - loss: 0.0448 - val_accuracy: 0.7250 - val_loss: 1.0413\n",
      "Epoch 77/100\n",
      "\u001B[1m16/16\u001B[0m \u001B[32m━━━━━━━━━━━━━━━━━━━━\u001B[0m\u001B[37m\u001B[0m \u001B[1m0s\u001B[0m 28ms/step - accuracy: 0.9887 - loss: 0.0334 - val_accuracy: 0.7000 - val_loss: 1.1283\n",
      "Epoch 78/100\n",
      "\u001B[1m16/16\u001B[0m \u001B[32m━━━━━━━━━━━━━━━━━━━━\u001B[0m\u001B[37m\u001B[0m \u001B[1m0s\u001B[0m 30ms/step - accuracy: 0.9757 - loss: 0.0568 - val_accuracy: 0.6750 - val_loss: 1.2315\n",
      "Epoch 79/100\n",
      "\u001B[1m16/16\u001B[0m \u001B[32m━━━━━━━━━━━━━━━━━━━━\u001B[0m\u001B[37m\u001B[0m \u001B[1m0s\u001B[0m 28ms/step - accuracy: 0.9748 - loss: 0.0531 - val_accuracy: 0.7250 - val_loss: 1.0598\n",
      "Epoch 80/100\n",
      "\u001B[1m16/16\u001B[0m \u001B[32m━━━━━━━━━━━━━━━━━━━━\u001B[0m\u001B[37m\u001B[0m \u001B[1m0s\u001B[0m 28ms/step - accuracy: 0.9345 - loss: 0.1238 - val_accuracy: 0.7500 - val_loss: 0.9087\n",
      "Epoch 81/100\n",
      "\u001B[1m16/16\u001B[0m \u001B[32m━━━━━━━━━━━━━━━━━━━━\u001B[0m\u001B[37m\u001B[0m \u001B[1m0s\u001B[0m 29ms/step - accuracy: 0.9616 - loss: 0.0837 - val_accuracy: 0.7250 - val_loss: 0.9693\n",
      "Epoch 82/100\n",
      "\u001B[1m16/16\u001B[0m \u001B[32m━━━━━━━━━━━━━━━━━━━━\u001B[0m\u001B[37m\u001B[0m \u001B[1m0s\u001B[0m 29ms/step - accuracy: 0.9596 - loss: 0.0885 - val_accuracy: 0.7250 - val_loss: 0.9198\n",
      "Epoch 83/100\n",
      "\u001B[1m16/16\u001B[0m \u001B[32m━━━━━━━━━━━━━━━━━━━━\u001B[0m\u001B[37m\u001B[0m \u001B[1m1s\u001B[0m 31ms/step - accuracy: 0.9834 - loss: 0.0460 - val_accuracy: 0.7250 - val_loss: 0.9780\n",
      "Epoch 84/100\n",
      "\u001B[1m16/16\u001B[0m \u001B[32m━━━━━━━━━━━━━━━━━━━━\u001B[0m\u001B[37m\u001B[0m \u001B[1m1s\u001B[0m 31ms/step - accuracy: 0.9752 - loss: 0.0535 - val_accuracy: 0.6750 - val_loss: 0.9299\n",
      "Epoch 85/100\n",
      "\u001B[1m16/16\u001B[0m \u001B[32m━━━━━━━━━━━━━━━━━━━━\u001B[0m\u001B[37m\u001B[0m \u001B[1m0s\u001B[0m 29ms/step - accuracy: 0.9824 - loss: 0.0449 - val_accuracy: 0.7250 - val_loss: 0.8871\n",
      "Epoch 86/100\n",
      "\u001B[1m16/16\u001B[0m \u001B[32m━━━━━━━━━━━━━━━━━━━━\u001B[0m\u001B[37m\u001B[0m \u001B[1m0s\u001B[0m 28ms/step - accuracy: 0.9664 - loss: 0.0533 - val_accuracy: 0.7000 - val_loss: 0.9713\n",
      "Epoch 87/100\n",
      "\u001B[1m16/16\u001B[0m \u001B[32m━━━━━━━━━━━━━━━━━━━━\u001B[0m\u001B[37m\u001B[0m \u001B[1m0s\u001B[0m 29ms/step - accuracy: 0.9579 - loss: 0.0791 - val_accuracy: 0.6750 - val_loss: 1.0401\n",
      "Epoch 88/100\n",
      "\u001B[1m16/16\u001B[0m \u001B[32m━━━━━━━━━━━━━━━━━━━━\u001B[0m\u001B[37m\u001B[0m \u001B[1m0s\u001B[0m 29ms/step - accuracy: 0.9747 - loss: 0.0450 - val_accuracy: 0.7000 - val_loss: 1.0647\n",
      "Epoch 89/100\n",
      "\u001B[1m16/16\u001B[0m \u001B[32m━━━━━━━━━━━━━━━━━━━━\u001B[0m\u001B[37m\u001B[0m \u001B[1m0s\u001B[0m 28ms/step - accuracy: 0.9566 - loss: 0.0738 - val_accuracy: 0.7250 - val_loss: 0.9827\n",
      "Epoch 90/100\n",
      "\u001B[1m16/16\u001B[0m \u001B[32m━━━━━━━━━━━━━━━━━━━━\u001B[0m\u001B[37m\u001B[0m \u001B[1m0s\u001B[0m 29ms/step - accuracy: 0.9878 - loss: 0.0234 - val_accuracy: 0.7500 - val_loss: 0.9566\n",
      "Epoch 91/100\n",
      "\u001B[1m16/16\u001B[0m \u001B[32m━━━━━━━━━━━━━━━━━━━━\u001B[0m\u001B[37m\u001B[0m \u001B[1m0s\u001B[0m 28ms/step - accuracy: 0.9722 - loss: 0.0462 - val_accuracy: 0.7250 - val_loss: 0.9297\n",
      "Epoch 92/100\n",
      "\u001B[1m16/16\u001B[0m \u001B[32m━━━━━━━━━━━━━━━━━━━━\u001B[0m\u001B[37m\u001B[0m \u001B[1m0s\u001B[0m 28ms/step - accuracy: 0.9717 - loss: 0.0482 - val_accuracy: 0.7250 - val_loss: 0.9063\n",
      "Epoch 93/100\n",
      "\u001B[1m16/16\u001B[0m \u001B[32m━━━━━━━━━━━━━━━━━━━━\u001B[0m\u001B[37m\u001B[0m \u001B[1m0s\u001B[0m 30ms/step - accuracy: 0.9680 - loss: 0.0518 - val_accuracy: 0.7500 - val_loss: 0.9020\n",
      "Epoch 94/100\n",
      "\u001B[1m16/16\u001B[0m \u001B[32m━━━━━━━━━━━━━━━━━━━━\u001B[0m\u001B[37m\u001B[0m \u001B[1m0s\u001B[0m 28ms/step - accuracy: 0.9768 - loss: 0.0363 - val_accuracy: 0.7750 - val_loss: 0.9079\n",
      "Epoch 95/100\n",
      "\u001B[1m16/16\u001B[0m \u001B[32m━━━━━━━━━━━━━━━━━━━━\u001B[0m\u001B[37m\u001B[0m \u001B[1m0s\u001B[0m 29ms/step - accuracy: 0.9853 - loss: 0.0226 - val_accuracy: 0.7750 - val_loss: 0.9106\n",
      "Epoch 96/100\n",
      "\u001B[1m16/16\u001B[0m \u001B[32m━━━━━━━━━━━━━━━━━━━━\u001B[0m\u001B[37m\u001B[0m \u001B[1m0s\u001B[0m 28ms/step - accuracy: 0.9734 - loss: 0.0334 - val_accuracy: 0.7750 - val_loss: 0.9049\n",
      "Epoch 97/100\n",
      "\u001B[1m16/16\u001B[0m \u001B[32m━━━━━━━━━━━━━━━━━━━━\u001B[0m\u001B[37m\u001B[0m \u001B[1m0s\u001B[0m 27ms/step - accuracy: 0.9798 - loss: 0.0221 - val_accuracy: 0.7750 - val_loss: 0.9035\n",
      "Epoch 98/100\n",
      "\u001B[1m16/16\u001B[0m \u001B[32m━━━━━━━━━━━━━━━━━━━━\u001B[0m\u001B[37m\u001B[0m \u001B[1m0s\u001B[0m 28ms/step - accuracy: 0.9490 - loss: 0.0477 - val_accuracy: 0.7500 - val_loss: 0.9197\n",
      "Epoch 99/100\n",
      "\u001B[1m16/16\u001B[0m \u001B[32m━━━━━━━━━━━━━━━━━━━━\u001B[0m\u001B[37m\u001B[0m \u001B[1m0s\u001B[0m 29ms/step - accuracy: 0.9960 - loss: 0.0096 - val_accuracy: 0.7500 - val_loss: 0.9464\n",
      "Epoch 100/100\n",
      "\u001B[1m16/16\u001B[0m \u001B[32m━━━━━━━━━━━━━━━━━━━━\u001B[0m\u001B[37m\u001B[0m \u001B[1m0s\u001B[0m 28ms/step - accuracy: 1.0000 - loss: 0.0141 - val_accuracy: 0.7250 - val_loss: 0.9899\n"
     ]
    }
   ],
   "execution_count": 35
  },
  {
   "metadata": {
    "ExecuteTime": {
     "end_time": "2024-12-14T12:42:37.986974Z",
     "start_time": "2024-12-14T12:42:37.908547Z"
    }
   },
   "cell_type": "code",
   "source": [
    "plt.plot(history.history['accuracy'])\n",
    "plt.plot(history.history['val_accuracy'])\n",
    "plt.title('model accuracy')\n",
    "plt.ylabel('accuracy')\n",
    "plt.xlabel('epoch')\n",
    "plt.legend(['train', 'val'], loc='upper left')\n",
    "plt.show()"
   ],
   "id": "cc42c4a0a2c6e778",
   "outputs": [
    {
     "data": {
      "text/plain": [
       "<Figure size 640x480 with 1 Axes>"
      ],
      "image/png": "[encoded data removed]"
     },
     "metadata": {},
     "output_type": "display_data"
    }
   ],
   "execution_count": 36
  },
  {
   "metadata": {
    "ExecuteTime": {
     "end_time": "2024-12-14T12:43:09.403702Z",
     "start_time": "2024-12-14T12:42:38.002879Z"
    }
   },
   "cell_type": "code",
   "source": [
    "history = simple_model.fit(x=[\n",
    "    train_data[0],\n",
    "    train_data[1],\n",
    "    train_data[2],\n",
    "    train_data[3],\n",
    "    train_data[4],\n",
    "    train_data[5],\n",
    "    train_data[6],\n",
    "    train_data[7],\n",
    "],\n",
    "    y=train_y,\n",
    "    epochs=100,\n",
    "    batch_size=10,\n",
    "    validation_data=([\n",
    "                         test_data[0],\n",
    "                         test_data[1],\n",
    "                         test_data[2],\n",
    "                         test_data[3],\n",
    "                         test_data[4],\n",
    "                         test_data[5],\n",
    "                         test_data[6],\n",
    "                         test_data[7],\n",
    "                     ], test_y)\n",
    ")\n"
   ],
   "id": "1fde266f8a3230db",
   "outputs": [
    {
     "name": "stdout",
     "output_type": "stream",
     "text": [
      "Epoch 1/100\n",
      "\u001B[1m16/16\u001B[0m \u001B[32m━━━━━━━━━━━━━━━━━━━━\u001B[0m\u001B[37m\u001B[0m \u001B[1m0s\u001B[0m 19ms/step - accuracy: 0.9218 - loss: 0.2686 - val_accuracy: 0.5500 - val_loss: 1.1395\n",
      "Epoch 2/100\n",
      "\u001B[1m16/16\u001B[0m \u001B[32m━━━━━━━━━━━━━━━━━━━━\u001B[0m\u001B[37m\u001B[0m \u001B[1m0s\u001B[0m 21ms/step - accuracy: 0.9422 - loss: 0.2749 - val_accuracy: 0.6750 - val_loss: 1.3569\n",
      "Epoch 3/100\n",
      "\u001B[1m16/16\u001B[0m \u001B[32m━━━━━━━━━━━━━━━━━━━━\u001B[0m\u001B[37m\u001B[0m \u001B[1m0s\u001B[0m 17ms/step - accuracy: 0.9197 - loss: 0.2669 - val_accuracy: 0.6500 - val_loss: 1.3420\n",
      "Epoch 4/100\n",
      "\u001B[1m16/16\u001B[0m \u001B[32m━━━━━━━━━━━━━━━━━━━━\u001B[0m\u001B[37m\u001B[0m \u001B[1m0s\u001B[0m 17ms/step - accuracy: 0.9113 - loss: 0.2792 - val_accuracy: 0.6500 - val_loss: 1.3510\n",
      "Epoch 5/100\n",
      "\u001B[1m16/16\u001B[0m \u001B[32m━━━━━━━━━━━━━━━━━━━━\u001B[0m\u001B[37m\u001B[0m \u001B[1m0s\u001B[0m 18ms/step - accuracy: 0.9154 - loss: 0.2675 - val_accuracy: 0.5750 - val_loss: 1.2511\n",
      "Epoch 6/100\n",
      "\u001B[1m16/16\u001B[0m \u001B[32m━━━━━━━━━━━━━━━━━━━━\u001B[0m\u001B[37m\u001B[0m \u001B[1m0s\u001B[0m 20ms/step - accuracy: 0.9368 - loss: 0.2229 - val_accuracy: 0.5500 - val_loss: 1.2775\n",
      "Epoch 7/100\n",
      "\u001B[1m16/16\u001B[0m \u001B[32m━━━━━━━━━━━━━━━━━━━━\u001B[0m\u001B[37m\u001B[0m \u001B[1m0s\u001B[0m 18ms/step - accuracy: 0.9375 - loss: 0.2115 - val_accuracy: 0.6500 - val_loss: 1.3018\n",
      "Epoch 8/100\n",
      "\u001B[1m16/16\u001B[0m \u001B[32m━━━━━━━━━━━━━━━━━━━━\u001B[0m\u001B[37m\u001B[0m \u001B[1m0s\u001B[0m 19ms/step - accuracy: 0.9500 - loss: 0.1818 - val_accuracy: 0.6750 - val_loss: 1.3317\n",
      "Epoch 9/100\n",
      "\u001B[1m16/16\u001B[0m \u001B[32m━━━━━━━━━━━━━━━━━━━━\u001B[0m\u001B[37m\u001B[0m \u001B[1m0s\u001B[0m 20ms/step - accuracy: 0.9395 - loss: 0.2111 - val_accuracy: 0.6250 - val_loss: 1.2115\n",
      "Epoch 10/100\n",
      "\u001B[1m16/16\u001B[0m \u001B[32m━━━━━━━━━━━━━━━━━━━━\u001B[0m\u001B[37m\u001B[0m \u001B[1m0s\u001B[0m 23ms/step - accuracy: 0.9010 - loss: 0.2344 - val_accuracy: 0.6250 - val_loss: 1.3545\n",
      "Epoch 11/100\n",
      "\u001B[1m16/16\u001B[0m \u001B[32m━━━━━━━━━━━━━━━━━━━━\u001B[0m\u001B[37m\u001B[0m \u001B[1m0s\u001B[0m 19ms/step - accuracy: 0.9441 - loss: 0.1874 - val_accuracy: 0.6000 - val_loss: 1.2644\n",
      "Epoch 12/100\n",
      "\u001B[1m16/16\u001B[0m \u001B[32m━━━━━━━━━━━━━━━━━━━━\u001B[0m\u001B[37m\u001B[0m \u001B[1m0s\u001B[0m 19ms/step - accuracy: 0.9383 - loss: 0.1836 - val_accuracy: 0.5500 - val_loss: 1.4159\n",
      "Epoch 13/100\n",
      "\u001B[1m16/16\u001B[0m \u001B[32m━━━━━━━━━━━━━━━━━━━━\u001B[0m\u001B[37m\u001B[0m \u001B[1m0s\u001B[0m 19ms/step - accuracy: 0.9570 - loss: 0.1604 - val_accuracy: 0.5250 - val_loss: 1.4216\n",
      "Epoch 14/100\n",
      "\u001B[1m16/16\u001B[0m \u001B[32m━━━━━━━━━━━━━━━━━━━━\u001B[0m\u001B[37m\u001B[0m \u001B[1m0s\u001B[0m 19ms/step - accuracy: 0.9192 - loss: 0.2184 - val_accuracy: 0.5500 - val_loss: 1.3176\n",
      "Epoch 15/100\n",
      "\u001B[1m16/16\u001B[0m \u001B[32m━━━━━━━━━━━━━━━━━━━━\u001B[0m\u001B[37m\u001B[0m \u001B[1m0s\u001B[0m 18ms/step - accuracy: 0.9441 - loss: 0.1459 - val_accuracy: 0.5250 - val_loss: 1.3919\n",
      "Epoch 16/100\n",
      "\u001B[1m16/16\u001B[0m \u001B[32m━━━━━━━━━━━━━━━━━━━━\u001B[0m\u001B[37m\u001B[0m \u001B[1m0s\u001B[0m 17ms/step - accuracy: 0.9545 - loss: 0.1570 - val_accuracy: 0.5500 - val_loss: 1.4200\n",
      "Epoch 17/100\n",
      "\u001B[1m16/16\u001B[0m \u001B[32m━━━━━━━━━━━━━━━━━━━━\u001B[0m\u001B[37m\u001B[0m \u001B[1m0s\u001B[0m 17ms/step - accuracy: 0.9684 - loss: 0.1141 - val_accuracy: 0.5500 - val_loss: 1.5053\n",
      "Epoch 18/100\n",
      "\u001B[1m16/16\u001B[0m \u001B[32m━━━━━━━━━━━━━━━━━━━━\u001B[0m\u001B[37m\u001B[0m \u001B[1m0s\u001B[0m 19ms/step - accuracy: 0.9437 - loss: 0.1471 - val_accuracy: 0.5500 - val_loss: 1.5466\n",
      "Epoch 19/100\n",
      "\u001B[1m16/16\u001B[0m \u001B[32m━━━━━━━━━━━━━━━━━━━━\u001B[0m\u001B[37m\u001B[0m \u001B[1m0s\u001B[0m 17ms/step - accuracy: 0.9395 - loss: 0.1461 - val_accuracy: 0.5250 - val_loss: 1.4422\n",
      "Epoch 20/100\n",
      "\u001B[1m16/16\u001B[0m \u001B[32m━━━━━━━━━━━━━━━━━━━━\u001B[0m\u001B[37m\u001B[0m \u001B[1m0s\u001B[0m 19ms/step - accuracy: 0.9449 - loss: 0.1497 - val_accuracy: 0.5750 - val_loss: 1.5088\n",
      "Epoch 21/100\n",
      "\u001B[1m16/16\u001B[0m \u001B[32m━━━━━━━━━━━━━━━━━━━━\u001B[0m\u001B[37m\u001B[0m \u001B[1m0s\u001B[0m 17ms/step - accuracy: 0.9122 - loss: 0.1879 - val_accuracy: 0.5500 - val_loss: 1.5350\n",
      "Epoch 22/100\n",
      "\u001B[1m16/16\u001B[0m \u001B[32m━━━━━━━━━━━━━━━━━━━━\u001B[0m\u001B[37m\u001B[0m \u001B[1m0s\u001B[0m 21ms/step - accuracy: 0.9174 - loss: 0.1900 - val_accuracy: 0.5500 - val_loss: 1.6719\n",
      "Epoch 23/100\n",
      "\u001B[1m16/16\u001B[0m \u001B[32m━━━━━━━━━━━━━━━━━━━━\u001B[0m\u001B[37m\u001B[0m \u001B[1m0s\u001B[0m 17ms/step - accuracy: 0.9656 - loss: 0.1030 - val_accuracy: 0.6000 - val_loss: 1.4430\n",
      "Epoch 24/100\n",
      "\u001B[1m16/16\u001B[0m \u001B[32m━━━━━━━━━━━━━━━━━━━━\u001B[0m\u001B[37m\u001B[0m \u001B[1m0s\u001B[0m 19ms/step - accuracy: 0.9547 - loss: 0.1061 - val_accuracy: 0.6250 - val_loss: 1.8111\n",
      "Epoch 25/100\n",
      "\u001B[1m16/16\u001B[0m \u001B[32m━━━━━━━━━━━━━━━━━━━━\u001B[0m\u001B[37m\u001B[0m \u001B[1m0s\u001B[0m 17ms/step - accuracy: 0.9559 - loss: 0.1477 - val_accuracy: 0.6250 - val_loss: 1.2942\n",
      "Epoch 26/100\n",
      "\u001B[1m16/16\u001B[0m \u001B[32m━━━━━━━━━━━━━━━━━━━━\u001B[0m\u001B[37m\u001B[0m \u001B[1m0s\u001B[0m 17ms/step - accuracy: 0.8663 - loss: 0.2722 - val_accuracy: 0.5500 - val_loss: 1.6521\n",
      "Epoch 27/100\n",
      "\u001B[1m16/16\u001B[0m \u001B[32m━━━━━━━━━━━━━━━━━━━━\u001B[0m\u001B[37m\u001B[0m \u001B[1m0s\u001B[0m 17ms/step - accuracy: 0.8588 - loss: 0.3305 - val_accuracy: 0.6000 - val_loss: 1.1796\n",
      "Epoch 28/100\n",
      "\u001B[1m16/16\u001B[0m \u001B[32m━━━━━━━━━━━━━━━━━━━━\u001B[0m\u001B[37m\u001B[0m \u001B[1m0s\u001B[0m 17ms/step - accuracy: 0.7724 - loss: 0.6681 - val_accuracy: 0.5750 - val_loss: 1.1284\n",
      "Epoch 29/100\n",
      "\u001B[1m16/16\u001B[0m \u001B[32m━━━━━━━━━━━━━━━━━━━━\u001B[0m\u001B[37m\u001B[0m \u001B[1m0s\u001B[0m 17ms/step - accuracy: 0.7855 - loss: 0.5069 - val_accuracy: 0.5250 - val_loss: 1.5636\n",
      "Epoch 30/100\n",
      "\u001B[1m16/16\u001B[0m \u001B[32m━━━━━━━━━━━━━━━━━━━━\u001B[0m\u001B[37m\u001B[0m \u001B[1m0s\u001B[0m 18ms/step - accuracy: 0.8678 - loss: 0.3145 - val_accuracy: 0.5750 - val_loss: 1.5609\n",
      "Epoch 31/100\n",
      "\u001B[1m16/16\u001B[0m \u001B[32m━━━━━━━━━━━━━━━━━━━━\u001B[0m\u001B[37m\u001B[0m \u001B[1m0s\u001B[0m 17ms/step - accuracy: 0.9050 - loss: 0.2423 - val_accuracy: 0.6000 - val_loss: 1.4171\n",
      "Epoch 32/100\n",
      "\u001B[1m16/16\u001B[0m \u001B[32m━━━━━━━━━━━━━━━━━━━━\u001B[0m\u001B[37m\u001B[0m \u001B[1m0s\u001B[0m 17ms/step - accuracy: 0.9414 - loss: 0.1907 - val_accuracy: 0.6000 - val_loss: 1.3689\n",
      "Epoch 33/100\n",
      "\u001B[1m16/16\u001B[0m \u001B[32m━━━━━━━━━━━━━━━━━━━━\u001B[0m\u001B[37m\u001B[0m \u001B[1m0s\u001B[0m 20ms/step - accuracy: 0.9448 - loss: 0.1801 - val_accuracy: 0.6250 - val_loss: 1.5201\n",
      "Epoch 34/100\n",
      "\u001B[1m16/16\u001B[0m \u001B[32m━━━━━━━━━━━━━━━━━━━━\u001B[0m\u001B[37m\u001B[0m \u001B[1m0s\u001B[0m 18ms/step - accuracy: 0.9713 - loss: 0.1277 - val_accuracy: 0.5500 - val_loss: 1.2733\n",
      "Epoch 35/100\n",
      "\u001B[1m16/16\u001B[0m \u001B[32m━━━━━━━━━━━━━━━━━━━━\u001B[0m\u001B[37m\u001B[0m \u001B[1m0s\u001B[0m 19ms/step - accuracy: 0.9547 - loss: 0.1486 - val_accuracy: 0.5750 - val_loss: 1.4911\n",
      "Epoch 36/100\n",
      "\u001B[1m16/16\u001B[0m \u001B[32m━━━━━━━━━━━━━━━━━━━━\u001B[0m\u001B[37m\u001B[0m \u001B[1m0s\u001B[0m 18ms/step - accuracy: 0.9740 - loss: 0.1277 - val_accuracy: 0.6000 - val_loss: 1.5080\n",
      "Epoch 37/100\n",
      "\u001B[1m16/16\u001B[0m \u001B[32m━━━━━━━━━━━━━━━━━━━━\u001B[0m\u001B[37m\u001B[0m \u001B[1m0s\u001B[0m 18ms/step - accuracy: 0.9089 - loss: 0.2218 - val_accuracy: 0.5500 - val_loss: 1.3214\n",
      "Epoch 38/100\n",
      "\u001B[1m16/16\u001B[0m \u001B[32m━━━━━━━━━━━━━━━━━━━━\u001B[0m\u001B[37m\u001B[0m \u001B[1m0s\u001B[0m 21ms/step - accuracy: 0.9283 - loss: 0.1513 - val_accuracy: 0.6000 - val_loss: 1.3645\n",
      "Epoch 39/100\n",
      "\u001B[1m16/16\u001B[0m \u001B[32m━━━━━━━━━━━━━━━━━━━━\u001B[0m\u001B[37m\u001B[0m \u001B[1m0s\u001B[0m 20ms/step - accuracy: 0.9818 - loss: 0.0863 - val_accuracy: 0.6250 - val_loss: 1.5345\n",
      "Epoch 40/100\n",
      "\u001B[1m16/16\u001B[0m \u001B[32m━━━━━━━━━━━━━━━━━━━━\u001B[0m\u001B[37m\u001B[0m \u001B[1m0s\u001B[0m 17ms/step - accuracy: 0.9626 - loss: 0.1207 - val_accuracy: 0.5750 - val_loss: 1.4022\n",
      "Epoch 41/100\n",
      "\u001B[1m16/16\u001B[0m \u001B[32m━━━━━━━━━━━━━━━━━━━━\u001B[0m\u001B[37m\u001B[0m \u001B[1m0s\u001B[0m 19ms/step - accuracy: 0.9775 - loss: 0.0945 - val_accuracy: 0.5750 - val_loss: 1.4925\n",
      "Epoch 42/100\n",
      "\u001B[1m16/16\u001B[0m \u001B[32m━━━━━━━━━━━━━━━━━━━━\u001B[0m\u001B[37m\u001B[0m \u001B[1m0s\u001B[0m 17ms/step - accuracy: 0.9699 - loss: 0.0870 - val_accuracy: 0.5750 - val_loss: 1.5450\n",
      "Epoch 43/100\n",
      "\u001B[1m16/16\u001B[0m \u001B[32m━━━━━━━━━━━━━━━━━━━━\u001B[0m\u001B[37m\u001B[0m \u001B[1m0s\u001B[0m 20ms/step - accuracy: 0.9485 - loss: 0.1307 - val_accuracy: 0.5750 - val_loss: 1.7144\n",
      "Epoch 44/100\n",
      "\u001B[1m16/16\u001B[0m \u001B[32m━━━━━━━━━━━━━━━━━━━━\u001B[0m\u001B[37m\u001B[0m \u001B[1m0s\u001B[0m 19ms/step - accuracy: 0.9560 - loss: 0.0959 - val_accuracy: 0.6250 - val_loss: 1.5488\n",
      "Epoch 45/100\n",
      "\u001B[1m16/16\u001B[0m \u001B[32m━━━━━━━━━━━━━━━━━━━━\u001B[0m\u001B[37m\u001B[0m \u001B[1m0s\u001B[0m 20ms/step - accuracy: 0.9861 - loss: 0.0597 - val_accuracy: 0.6000 - val_loss: 1.5882\n",
      "Epoch 46/100\n",
      "\u001B[1m16/16\u001B[0m \u001B[32m━━━━━━━━━━━━━━━━━━━━\u001B[0m\u001B[37m\u001B[0m \u001B[1m0s\u001B[0m 18ms/step - accuracy: 0.9695 - loss: 0.0896 - val_accuracy: 0.6500 - val_loss: 1.4712\n",
      "Epoch 47/100\n",
      "\u001B[1m16/16\u001B[0m \u001B[32m━━━━━━━━━━━━━━━━━━━━\u001B[0m\u001B[37m\u001B[0m \u001B[1m0s\u001B[0m 22ms/step - accuracy: 0.9439 - loss: 0.1269 - val_accuracy: 0.6250 - val_loss: 1.4970\n",
      "Epoch 48/100\n",
      "\u001B[1m16/16\u001B[0m \u001B[32m━━━━━━━━━━━━━━━━━━━━\u001B[0m\u001B[37m\u001B[0m \u001B[1m0s\u001B[0m 20ms/step - accuracy: 0.9218 - loss: 0.1716 - val_accuracy: 0.5500 - val_loss: 1.3817\n",
      "Epoch 49/100\n",
      "\u001B[1m16/16\u001B[0m \u001B[32m━━━━━━━━━━━━━━━━━━━━\u001B[0m\u001B[37m\u001B[0m \u001B[1m0s\u001B[0m 18ms/step - accuracy: 0.8924 - loss: 0.2010 - val_accuracy: 0.6250 - val_loss: 1.1083\n",
      "Epoch 50/100\n",
      "\u001B[1m16/16\u001B[0m \u001B[32m━━━━━━━━━━━━━━━━━━━━\u001B[0m\u001B[37m\u001B[0m \u001B[1m0s\u001B[0m 18ms/step - accuracy: 0.9178 - loss: 0.2067 - val_accuracy: 0.6250 - val_loss: 1.2931\n",
      "Epoch 51/100\n",
      "\u001B[1m16/16\u001B[0m \u001B[32m━━━━━━━━━━━━━━━━━━━━\u001B[0m\u001B[37m\u001B[0m \u001B[1m0s\u001B[0m 19ms/step - accuracy: 0.9246 - loss: 0.1311 - val_accuracy: 0.5750 - val_loss: 1.4920\n",
      "Epoch 52/100\n",
      "\u001B[1m16/16\u001B[0m \u001B[32m━━━━━━━━━━━━━━━━━━━━\u001B[0m\u001B[37m\u001B[0m \u001B[1m0s\u001B[0m 18ms/step - accuracy: 0.9593 - loss: 0.0790 - val_accuracy: 0.6000 - val_loss: 1.5825\n",
      "Epoch 53/100\n",
      "\u001B[1m16/16\u001B[0m \u001B[32m━━━━━━━━━━━━━━━━━━━━\u001B[0m\u001B[37m\u001B[0m \u001B[1m0s\u001B[0m 17ms/step - accuracy: 0.9486 - loss: 0.1076 - val_accuracy: 0.5750 - val_loss: 1.6693\n",
      "Epoch 54/100\n",
      "\u001B[1m16/16\u001B[0m \u001B[32m━━━━━━━━━━━━━━━━━━━━\u001B[0m\u001B[37m\u001B[0m \u001B[1m0s\u001B[0m 20ms/step - accuracy: 0.9662 - loss: 0.0724 - val_accuracy: 0.5250 - val_loss: 1.7008\n",
      "Epoch 55/100\n",
      "\u001B[1m16/16\u001B[0m \u001B[32m━━━━━━━━━━━━━━━━━━━━\u001B[0m\u001B[37m\u001B[0m \u001B[1m0s\u001B[0m 21ms/step - accuracy: 0.9703 - loss: 0.0776 - val_accuracy: 0.5500 - val_loss: 1.8601\n",
      "Epoch 56/100\n",
      "\u001B[1m16/16\u001B[0m \u001B[32m━━━━━━━━━━━━━━━━━━━━\u001B[0m\u001B[37m\u001B[0m \u001B[1m0s\u001B[0m 17ms/step - accuracy: 0.9857 - loss: 0.0371 - val_accuracy: 0.5750 - val_loss: 1.8711\n",
      "Epoch 57/100\n",
      "\u001B[1m16/16\u001B[0m \u001B[32m━━━━━━━━━━━━━━━━━━━━\u001B[0m\u001B[37m\u001B[0m \u001B[1m0s\u001B[0m 19ms/step - accuracy: 0.9814 - loss: 0.0364 - val_accuracy: 0.6500 - val_loss: 1.8997\n",
      "Epoch 58/100\n",
      "\u001B[1m16/16\u001B[0m \u001B[32m━━━━━━━━━━━━━━━━━━━━\u001B[0m\u001B[37m\u001B[0m \u001B[1m0s\u001B[0m 17ms/step - accuracy: 0.9241 - loss: 0.1661 - val_accuracy: 0.6000 - val_loss: 2.0170\n",
      "Epoch 59/100\n",
      "\u001B[1m16/16\u001B[0m \u001B[32m━━━━━━━━━━━━━━━━━━━━\u001B[0m\u001B[37m\u001B[0m \u001B[1m0s\u001B[0m 16ms/step - accuracy: 0.9154 - loss: 0.1598 - val_accuracy: 0.6000 - val_loss: 1.6994\n",
      "Epoch 60/100\n",
      "\u001B[1m16/16\u001B[0m \u001B[32m━━━━━━━━━━━━━━━━━━━━\u001B[0m\u001B[37m\u001B[0m \u001B[1m0s\u001B[0m 17ms/step - accuracy: 0.9209 - loss: 0.1932 - val_accuracy: 0.5750 - val_loss: 1.5745\n",
      "Epoch 61/100\n",
      "\u001B[1m16/16\u001B[0m \u001B[32m━━━━━━━━━━━━━━━━━━━━\u001B[0m\u001B[37m\u001B[0m \u001B[1m0s\u001B[0m 18ms/step - accuracy: 0.9426 - loss: 0.1030 - val_accuracy: 0.6000 - val_loss: 1.7634\n",
      "Epoch 62/100\n",
      "\u001B[1m16/16\u001B[0m \u001B[32m━━━━━━━━━━━━━━━━━━━━\u001B[0m\u001B[37m\u001B[0m \u001B[1m0s\u001B[0m 19ms/step - accuracy: 0.9606 - loss: 0.0771 - val_accuracy: 0.6000 - val_loss: 1.6489\n",
      "Epoch 63/100\n",
      "\u001B[1m16/16\u001B[0m \u001B[32m━━━━━━━━━━━━━━━━━━━━\u001B[0m\u001B[37m\u001B[0m \u001B[1m0s\u001B[0m 18ms/step - accuracy: 0.9532 - loss: 0.0810 - val_accuracy: 0.6250 - val_loss: 1.8099\n",
      "Epoch 64/100\n",
      "\u001B[1m16/16\u001B[0m \u001B[32m━━━━━━━━━━━━━━━━━━━━\u001B[0m\u001B[37m\u001B[0m \u001B[1m0s\u001B[0m 22ms/step - accuracy: 0.9625 - loss: 0.0713 - val_accuracy: 0.6250 - val_loss: 1.9287\n",
      "Epoch 65/100\n",
      "\u001B[1m16/16\u001B[0m \u001B[32m━━━━━━━━━━━━━━━━━━━━\u001B[0m\u001B[37m\u001B[0m \u001B[1m0s\u001B[0m 19ms/step - accuracy: 0.9786 - loss: 0.0407 - val_accuracy: 0.6250 - val_loss: 1.9487\n",
      "Epoch 66/100\n",
      "\u001B[1m16/16\u001B[0m \u001B[32m━━━━━━━━━━━━━━━━━━━━\u001B[0m\u001B[37m\u001B[0m \u001B[1m0s\u001B[0m 17ms/step - accuracy: 0.9539 - loss: 0.0808 - val_accuracy: 0.6000 - val_loss: 1.8885\n",
      "Epoch 67/100\n",
      "\u001B[1m16/16\u001B[0m \u001B[32m━━━━━━━━━━━━━━━━━━━━\u001B[0m\u001B[37m\u001B[0m \u001B[1m0s\u001B[0m 19ms/step - accuracy: 0.9620 - loss: 0.0700 - val_accuracy: 0.6750 - val_loss: 1.6507\n",
      "Epoch 68/100\n",
      "\u001B[1m16/16\u001B[0m \u001B[32m━━━━━━━━━━━━━━━━━━━━\u001B[0m\u001B[37m\u001B[0m \u001B[1m0s\u001B[0m 17ms/step - accuracy: 0.9714 - loss: 0.0681 - val_accuracy: 0.6500 - val_loss: 1.9674\n",
      "Epoch 69/100\n",
      "\u001B[1m16/16\u001B[0m \u001B[32m━━━━━━━━━━━━━━━━━━━━\u001B[0m\u001B[37m\u001B[0m \u001B[1m0s\u001B[0m 19ms/step - accuracy: 0.9680 - loss: 0.0772 - val_accuracy: 0.6500 - val_loss: 1.3418\n",
      "Epoch 70/100\n",
      "\u001B[1m16/16\u001B[0m \u001B[32m━━━━━━━━━━━━━━━━━━━━\u001B[0m\u001B[37m\u001B[0m \u001B[1m0s\u001B[0m 18ms/step - accuracy: 0.9652 - loss: 0.0808 - val_accuracy: 0.5750 - val_loss: 1.5686\n",
      "Epoch 71/100\n",
      "\u001B[1m16/16\u001B[0m \u001B[32m━━━━━━━━━━━━━━━━━━━━\u001B[0m\u001B[37m\u001B[0m \u001B[1m0s\u001B[0m 21ms/step - accuracy: 0.9658 - loss: 0.0703 - val_accuracy: 0.6000 - val_loss: 1.5720\n",
      "Epoch 72/100\n",
      "\u001B[1m16/16\u001B[0m \u001B[32m━━━━━━━━━━━━━━━━━━━━\u001B[0m\u001B[37m\u001B[0m \u001B[1m0s\u001B[0m 19ms/step - accuracy: 0.9844 - loss: 0.0328 - val_accuracy: 0.6250 - val_loss: 1.7750\n",
      "Epoch 73/100\n",
      "\u001B[1m16/16\u001B[0m \u001B[32m━━━━━━━━━━━━━━━━━━━━\u001B[0m\u001B[37m\u001B[0m \u001B[1m0s\u001B[0m 21ms/step - accuracy: 0.9651 - loss: 0.0569 - val_accuracy: 0.6250 - val_loss: 1.8350\n",
      "Epoch 74/100\n",
      "\u001B[1m16/16\u001B[0m \u001B[32m━━━━━━━━━━━━━━━━━━━━\u001B[0m\u001B[37m\u001B[0m \u001B[1m0s\u001B[0m 18ms/step - accuracy: 0.9650 - loss: 0.0570 - val_accuracy: 0.6250 - val_loss: 1.8539\n",
      "Epoch 75/100\n",
      "\u001B[1m16/16\u001B[0m \u001B[32m━━━━━━━━━━━━━━━━━━━━\u001B[0m\u001B[37m\u001B[0m \u001B[1m0s\u001B[0m 17ms/step - accuracy: 0.9591 - loss: 0.0617 - val_accuracy: 0.6250 - val_loss: 1.8838\n",
      "Epoch 76/100\n",
      "\u001B[1m16/16\u001B[0m \u001B[32m━━━━━━━━━━━━━━━━━━━━\u001B[0m\u001B[37m\u001B[0m \u001B[1m0s\u001B[0m 17ms/step - accuracy: 0.9587 - loss: 0.0621 - val_accuracy: 0.6500 - val_loss: 1.9290\n",
      "Epoch 77/100\n",
      "\u001B[1m16/16\u001B[0m \u001B[32m━━━━━━━━━━━━━━━━━━━━\u001B[0m\u001B[37m\u001B[0m \u001B[1m0s\u001B[0m 19ms/step - accuracy: 0.9705 - loss: 0.0450 - val_accuracy: 0.6500 - val_loss: 1.9587\n",
      "Epoch 78/100\n",
      "\u001B[1m16/16\u001B[0m \u001B[32m━━━━━━━━━━━━━━━━━━━━\u001B[0m\u001B[37m\u001B[0m \u001B[1m0s\u001B[0m 18ms/step - accuracy: 0.9591 - loss: 0.0605 - val_accuracy: 0.6500 - val_loss: 1.9466\n",
      "Epoch 79/100\n",
      "\u001B[1m16/16\u001B[0m \u001B[32m━━━━━━━━━━━━━━━━━━━━\u001B[0m\u001B[37m\u001B[0m \u001B[1m0s\u001B[0m 17ms/step - accuracy: 0.9615 - loss: 0.0562 - val_accuracy: 0.6500 - val_loss: 2.0044\n",
      "Epoch 80/100\n",
      "\u001B[1m16/16\u001B[0m \u001B[32m━━━━━━━━━━━━━━━━━━━━\u001B[0m\u001B[37m\u001B[0m \u001B[1m0s\u001B[0m 20ms/step - accuracy: 0.9579 - loss: 0.0603 - val_accuracy: 0.6500 - val_loss: 1.9977\n",
      "Epoch 81/100\n",
      "\u001B[1m16/16\u001B[0m \u001B[32m━━━━━━━━━━━━━━━━━━━━\u001B[0m\u001B[37m\u001B[0m \u001B[1m0s\u001B[0m 17ms/step - accuracy: 0.9573 - loss: 0.0608 - val_accuracy: 0.6500 - val_loss: 1.9558\n",
      "Epoch 82/100\n",
      "\u001B[1m16/16\u001B[0m \u001B[32m━━━━━━━━━━━━━━━━━━━━\u001B[0m\u001B[37m\u001B[0m \u001B[1m0s\u001B[0m 17ms/step - accuracy: 0.9823 - loss: 0.0287 - val_accuracy: 0.6500 - val_loss: 1.9805\n",
      "Epoch 83/100\n",
      "\u001B[1m16/16\u001B[0m \u001B[32m━━━━━━━━━━━━━━━━━━━━\u001B[0m\u001B[37m\u001B[0m \u001B[1m0s\u001B[0m 18ms/step - accuracy: 0.9672 - loss: 0.0469 - val_accuracy: 0.6500 - val_loss: 2.0228\n",
      "Epoch 84/100\n",
      "\u001B[1m16/16\u001B[0m \u001B[32m━━━━━━━━━━━━━━━━━━━━\u001B[0m\u001B[37m\u001B[0m \u001B[1m0s\u001B[0m 17ms/step - accuracy: 0.9699 - loss: 0.0431 - val_accuracy: 0.6500 - val_loss: 2.0664\n",
      "Epoch 85/100\n",
      "\u001B[1m16/16\u001B[0m \u001B[32m━━━━━━━━━━━━━━━━━━━━\u001B[0m\u001B[37m\u001B[0m \u001B[1m0s\u001B[0m 19ms/step - accuracy: 0.9563 - loss: 0.0599 - val_accuracy: 0.6500 - val_loss: 2.0738\n",
      "Epoch 86/100\n",
      "\u001B[1m16/16\u001B[0m \u001B[32m━━━━━━━━━━━━━━━━━━━━\u001B[0m\u001B[37m\u001B[0m \u001B[1m0s\u001B[0m 18ms/step - accuracy: 0.9477 - loss: 0.0711 - val_accuracy: 0.6500 - val_loss: 2.0875\n",
      "Epoch 87/100\n",
      "\u001B[1m16/16\u001B[0m \u001B[32m━━━━━━━━━━━━━━━━━━━━\u001B[0m\u001B[37m\u001B[0m \u001B[1m0s\u001B[0m 18ms/step - accuracy: 0.9568 - loss: 0.0591 - val_accuracy: 0.6500 - val_loss: 2.1098\n",
      "Epoch 88/100\n",
      "\u001B[1m16/16\u001B[0m \u001B[32m━━━━━━━━━━━━━━━━━━━━\u001B[0m\u001B[37m\u001B[0m \u001B[1m0s\u001B[0m 17ms/step - accuracy: 0.9733 - loss: 0.0375 - val_accuracy: 0.6500 - val_loss: 2.1383\n",
      "Epoch 89/100\n",
      "\u001B[1m16/16\u001B[0m \u001B[32m━━━━━━━━━━━━━━━━━━━━\u001B[0m\u001B[37m\u001B[0m \u001B[1m0s\u001B[0m 17ms/step - accuracy: 0.9700 - loss: 0.0414 - val_accuracy: 0.6500 - val_loss: 2.1485\n",
      "Epoch 90/100\n",
      "\u001B[1m16/16\u001B[0m \u001B[32m━━━━━━━━━━━━━━━━━━━━\u001B[0m\u001B[37m\u001B[0m \u001B[1m0s\u001B[0m 18ms/step - accuracy: 0.9812 - loss: 0.0265 - val_accuracy: 0.6500 - val_loss: 2.1602\n",
      "Epoch 91/100\n",
      "\u001B[1m16/16\u001B[0m \u001B[32m━━━━━━━━━━━━━━━━━━━━\u001B[0m\u001B[37m\u001B[0m \u001B[1m0s\u001B[0m 18ms/step - accuracy: 0.9572 - loss: 0.0575 - val_accuracy: 0.6500 - val_loss: 2.1591\n",
      "Epoch 92/100\n",
      "\u001B[1m16/16\u001B[0m \u001B[32m━━━━━━━━━━━━━━━━━━━━\u001B[0m\u001B[37m\u001B[0m \u001B[1m0s\u001B[0m 19ms/step - accuracy: 0.9783 - loss: 0.0310 - val_accuracy: 0.6000 - val_loss: 2.0436\n",
      "Epoch 93/100\n",
      "\u001B[1m16/16\u001B[0m \u001B[32m━━━━━━━━━━━━━━━━━━━━\u001B[0m\u001B[37m\u001B[0m \u001B[1m0s\u001B[0m 20ms/step - accuracy: 0.9684 - loss: 0.0444 - val_accuracy: 0.6500 - val_loss: 2.0802\n",
      "Epoch 94/100\n",
      "\u001B[1m16/16\u001B[0m \u001B[32m━━━━━━━━━━━━━━━━━━━━\u001B[0m\u001B[37m\u001B[0m \u001B[1m0s\u001B[0m 18ms/step - accuracy: 0.9693 - loss: 0.0417 - val_accuracy: 0.6500 - val_loss: 2.1187\n",
      "Epoch 95/100\n",
      "\u001B[1m16/16\u001B[0m \u001B[32m━━━━━━━━━━━━━━━━━━━━\u001B[0m\u001B[37m\u001B[0m \u001B[1m0s\u001B[0m 20ms/step - accuracy: 0.9671 - loss: 0.0445 - val_accuracy: 0.6500 - val_loss: 2.1615\n",
      "Epoch 96/100\n",
      "\u001B[1m16/16\u001B[0m \u001B[32m━━━━━━━━━━━━━━━━━━━━\u001B[0m\u001B[37m\u001B[0m \u001B[1m0s\u001B[0m 18ms/step - accuracy: 0.9406 - loss: 0.0783 - val_accuracy: 0.6500 - val_loss: 2.1911\n",
      "Epoch 97/100\n",
      "\u001B[1m16/16\u001B[0m \u001B[32m━━━━━━━━━━━━━━━━━━━━\u001B[0m\u001B[37m\u001B[0m \u001B[1m0s\u001B[0m 17ms/step - accuracy: 0.9656 - loss: 0.0457 - val_accuracy: 0.6500 - val_loss: 2.2009\n",
      "Epoch 98/100\n",
      "\u001B[1m16/16\u001B[0m \u001B[32m━━━━━━━━━━━━━━━━━━━━\u001B[0m\u001B[37m\u001B[0m \u001B[1m0s\u001B[0m 17ms/step - accuracy: 0.9547 - loss: 0.0596 - val_accuracy: 0.6500 - val_loss: 2.2077\n",
      "Epoch 99/100\n",
      "\u001B[1m16/16\u001B[0m \u001B[32m━━━━━━━━━━━━━━━━━━━━\u001B[0m\u001B[37m\u001B[0m \u001B[1m0s\u001B[0m 17ms/step - accuracy: 0.9781 - loss: 0.0302 - val_accuracy: 0.6250 - val_loss: 2.2365\n",
      "Epoch 100/100\n",
      "\u001B[1m16/16\u001B[0m \u001B[32m━━━━━━━━━━━━━━━━━━━━\u001B[0m\u001B[37m\u001B[0m \u001B[1m0s\u001B[0m 20ms/step - accuracy: 0.9679 - loss: 0.0426 - val_accuracy: 0.6250 - val_loss: 2.2712\n"
     ]
    }
   ],
   "execution_count": 37
  },
  {
   "metadata": {
    "ExecuteTime": {
     "end_time": "2024-12-14T12:43:09.618263Z",
     "start_time": "2024-12-14T12:43:09.545276Z"
    }
   },
   "cell_type": "code",
   "source": [
    "plt.plot(history.history['accuracy'])\n",
    "plt.plot(history.history['val_accuracy'])\n",
    "plt.title('model accuracy')\n",
    "plt.ylabel('accuracy')\n",
    "plt.xlabel('epoch')\n",
    "plt.legend(['train', 'val'], loc='upper left')\n",
    "plt.show()"
   ],
   "id": "7d4b8233f42fa6bb",
   "outputs": [
    {
     "data": {
      "text/plain": [
       "<Figure size 640x480 with 1 Axes>"
      ],
      "image/png": "[encoded data removed]"
     },
     "metadata": {},
     "output_type": "display_data"
    }
   ],
   "execution_count": 38
  },
  {
   "metadata": {},
   "cell_type": "code",
   "outputs": [],
   "execution_count": null,
   "source": "",
   "id": "5ddc90158a69f2dc"
  }
 ],
 "metadata": {
  "kernelspec": {
   "display_name": "Python 3",
   "language": "python",
   "name": "python3"
  },
  "language_info": {
   "codemirror_mode": {
    "name": "ipython",
    "version": 2
   },
   "file_extension": ".py",
   "mimetype": "text/x-python",
   "name": "python",
   "nbconvert_exporter": "python",
   "pygments_lexer": "ipython2",
   "version": "2.7.6"
  }
 },
 "nbformat": 4,
 "nbformat_minor": 5
}
